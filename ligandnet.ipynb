{
 "cells": [
  {
   "cell_type": "code",
   "execution_count": 12,
   "metadata": {},
   "outputs": [],
   "source": [
    "# %load ligandnet.py\n",
    "import os\n",
    "import joblib\n",
    "import argparse\n",
    "import time\n",
    "import pandas as pd\n",
    "import numpy as np\n",
    "from ddt.utility import FeatureGenerator\n",
    "import errno\n",
    "import json\n",
    "from collections import OrderedDict\n",
    "from tqdm import tqdm\n",
    "import argparse"
   ]
  },
  {
   "cell_type": "code",
   "execution_count": 35,
   "metadata": {},
   "outputs": [],
   "source": [
    "class LigandNet(object):\n",
    "    MODELS_DIR = os.path.join('models/files')\n",
    "    \n",
    "    def __init__(self):\n",
    "        self.load_models()\n",
    "        \n",
    "    def load_models(self):\n",
    "        #TODO: Avoid loading all the models\n",
    "        # Read the best models\n",
    "        with open('best_models.txt', 'r') as f:\n",
    "            best_models = f.read().splitlines()[:50]\n",
    "        \n",
    "        self.uniprot_ids = [model_path[:6] for model_path in best_models]\n",
    "        self.models = [joblib.load(os.path.join(self.MODELS_DIR, model_path)) for model_path in best_models]\n",
    "            \n",
    "    def get_features(self, input, input_type):\n",
    "        # TODO: Add functionality for reading from a smi file containing a bulk of smiles\n",
    "        ft = FeatureGenerator()\n",
    "        if input_type == 'smiles':\n",
    "            ft.load_smiles(input)\n",
    "        else:\n",
    "            ft.load_sdf(input)\n",
    "        cmpd_id, features = ft.extract_tpatf()\n",
    "        return cmpd_id, features.reshape(-1, 2692)\n",
    "    \n",
    "    # Get predictions\n",
    "    def get_prediction(self, input, input_type, confidence_threshold=0.5):\n",
    "        results = {}\n",
    "        cmpd_id, features = self.get_features(input, input_type)\n",
    "        cmpd_id = np.array(cmpd_id)\n",
    "        for uniprot_id, model in tqdm(zip(self.uniprot_ids, self.models), total=703):\n",
    "            pred = model.predict_proba(features)[:, 1]\n",
    "            mask = pred >= confidence_threshold\n",
    "            for _id, _pred in zip(cmpd_id[mask], pred[mask]):\n",
    "                # Create a dictionary for compound if not exists\n",
    "                if _id not in results.keys():\n",
    "                    results[_id] = {}\n",
    "                # Update the compound result dictionary\n",
    "                results[_id].update({uniprot_id:_pred})\n",
    "        return results"
   ]
  },
  {
   "cell_type": "code",
   "execution_count": 36,
   "metadata": {},
   "outputs": [],
   "source": [
    "l = LigandNet()"
   ]
  },
  {
   "cell_type": "code",
   "execution_count": 49,
   "metadata": {},
   "outputs": [
    {
     "name": "stderr",
     "output_type": "stream",
     "text": [
      "  7%|▋         | 50/703 [00:00<00:11, 54.57it/s]\n"
     ]
    }
   ],
   "source": [
    "r = l.get_prediction('CCCC', 'smiles', 0.005)"
   ]
  },
  {
   "cell_type": "code",
   "execution_count": 50,
   "metadata": {},
   "outputs": [
    {
     "data": {
      "text/plain": [
       "{'Cmpd1': {'O00206': 0.01,\n",
       "  'O00329': 0.12453546272950158,\n",
       "  'O00398': 0.007955998,\n",
       "  'O00519': 0.047452199945055215,\n",
       "  'O00748': 0.013333333333333334,\n",
       "  'O00767': 0.015485651370918459,\n",
       "  'O14649': 0.0080336165,\n",
       "  'O14672': 0.3962052124407,\n",
       "  'O14920': 0.13783955337360168,\n",
       "  'O15054': 0.06776798,\n",
       "  'O15379': 0.026473444502453654,\n",
       "  'O15496': 0.4388301674112895,\n",
       "  'O15530': 0.2853474377955889,\n",
       "  'O43318': 0.013770750231887178,\n",
       "  'O60341': 0.19,\n",
       "  'O60427': 0.47349631405766146,\n",
       "  'O60502': 0.13518072481187046,\n",
       "  'O60563': 0.006062961713391305,\n",
       "  'O60725': 0.0075}}"
      ]
     },
     "execution_count": 50,
     "metadata": {},
     "output_type": "execute_result"
    }
   ],
   "source": [
    "r"
   ]
  },
  {
   "cell_type": "code",
   "execution_count": 52,
   "metadata": {},
   "outputs": [
    {
     "name": "stdout",
     "output_type": "stream",
     "text": [
      "<class 'numpy.str_'>\n",
      "O00206 0.01\n",
      "<class 'numpy.str_'> <class 'numpy.float64'>\n",
      "O00329 0.12453546272950158\n",
      "<class 'numpy.str_'> <class 'numpy.float64'>\n",
      "O00398 0.007955998\n",
      "<class 'numpy.str_'> <class 'numpy.float32'>\n",
      "O00519 0.047452199945055215\n",
      "<class 'numpy.str_'> <class 'numpy.float64'>\n",
      "O00748 0.013333333333333334\n",
      "<class 'numpy.str_'> <class 'numpy.float64'>\n",
      "O00767 0.015485651370918459\n",
      "<class 'numpy.str_'> <class 'numpy.float64'>\n",
      "O14649 0.0080336165\n",
      "<class 'numpy.str_'> <class 'numpy.float32'>\n",
      "O14672 0.3962052124407\n",
      "<class 'numpy.str_'> <class 'numpy.float64'>\n",
      "O14920 0.13783955337360168\n",
      "<class 'numpy.str_'> <class 'numpy.float64'>\n",
      "O15054 0.06776798\n",
      "<class 'numpy.str_'> <class 'numpy.float32'>\n",
      "O15379 0.026473444502453654\n",
      "<class 'numpy.str_'> <class 'numpy.float64'>\n",
      "O15496 0.4388301674112895\n",
      "<class 'numpy.str_'> <class 'numpy.float64'>\n",
      "O15530 0.2853474377955889\n",
      "<class 'numpy.str_'> <class 'numpy.float64'>\n",
      "O43318 0.013770750231887178\n",
      "<class 'numpy.str_'> <class 'numpy.float64'>\n",
      "O60341 0.19\n",
      "<class 'numpy.str_'> <class 'numpy.float64'>\n",
      "O60427 0.47349631405766146\n",
      "<class 'numpy.str_'> <class 'numpy.float64'>\n",
      "O60502 0.13518072481187046\n",
      "<class 'numpy.str_'> <class 'numpy.float64'>\n",
      "O60563 0.006062961713391305\n",
      "<class 'numpy.str_'> <class 'numpy.float64'>\n",
      "O60725 0.0075\n",
      "<class 'numpy.str_'> <class 'numpy.float64'>\n"
     ]
    }
   ],
   "source": [
    "for k, v in r.items():\n",
    "    print(type(k))\n",
    "    for _k, _v in v.items():\n",
    "#         v[_k] = float(_/v)\n",
    "        print(_k, _v)\n",
    "        print(type(k), type(_v))"
   ]
  },
  {
   "cell_type": "code",
   "execution_count": 14,
   "metadata": {},
   "outputs": [
    {
     "name": "stderr",
     "output_type": "stream",
     "text": [
      "usage: ipykernel_launcher.py [-h] [--sdf SDF] [--smiles SMILES]\n",
      "                             [--confidence CONFIDENCE]\n",
      "ipykernel_launcher.py: error: unrecognized arguments: -f /data/mhassan/.local/share/jupyter/runtime/kernel-bcbfbfd7-590f-4097-8e5f-4e28b9b031ea.json\n"
     ]
    },
    {
     "ename": "SystemExit",
     "evalue": "2",
     "output_type": "error",
     "traceback": [
      "An exception has occurred, use %tb to see the full traceback.\n",
      "\u001b[0;31mSystemExit\u001b[0m\u001b[0;31m:\u001b[0m 2\n"
     ]
    },
    {
     "name": "stderr",
     "output_type": "stream",
     "text": [
      "/home/mhassan/miniconda3/envs/ml/lib/python3.7/site-packages/IPython/core/interactiveshell.py:3334: UserWarning: To exit: use 'exit', 'quit', or Ctrl-D.\n",
      "  warn(\"To exit: use 'exit', 'quit', or Ctrl-D.\", stacklevel=1)\n"
     ]
    }
   ],
   "source": [
    "if __name__ == \"__main__\":\n",
    "    start = time.time()\n",
    "    parser = argparse.ArgumentParser(\n",
    "        description=\"Ligand activity prediction using LigandNet\")\n",
    "    parser.add_argument('--sdf', action='store',\n",
    "                        dest='sdf', help='SDF file location')\n",
    "    parser.add_argument('--smiles', action='store', type=str,\n",
    "                        dest='smiles', help='SMILES')\n",
    "#     parser.add_argument('--out', action='store', dest='out',\n",
    "#                         required=False, help='Output directory')\n",
    "    parser.add_argument('--confidence', action='store', dest='confidence', type=float,\n",
    "                        default=0.50, help='Minimum confidence to consider for prediction. Default is 0.5')\n",
    "    \n",
    "    args = parser.parse_args()\n",
    "    \n",
    "    if not (args.smiles or args.sdf):\n",
    "        parser.error('No input found. Provide --smiles or --sdf')\n",
    "    \n",
    "    print(f\"Loading the LigandNet models ...\")\n",
    "    l = LigandNet()\n",
    "    \n",
    "    if args.sdf is not None:\n",
    "        if not os.path.isfile(args.sdf):\n",
    "            raise FileNotFoundError(errno.ENOENT, os.strerror(\n",
    "                errno.ENOENT), args.sdf)\n",
    "\n",
    "        results = l.get_prediction(args.sdf, 'sdf', args.confidence)\n",
    "        print(results)\n",
    "\n",
    "    if args.smiles is not None:\n",
    "        results = l.get_prediction(args.smiles,'smiles', args.confidence)\n",
    "        print(results)\n"
   ]
  },
  {
   "cell_type": "code",
   "execution_count": 15,
   "metadata": {},
   "outputs": [],
   "source": [
    "import json"
   ]
  },
  {
   "cell_type": "code",
   "execution_count": 19,
   "metadata": {},
   "outputs": [],
   "source": [
    "d = {'Cmpd1': {'O00206': 0.01, 'O00329': 0.12, 'O00398': 0.01, 'O00519': 0.05, 'O00748': 0.01, 'O00767': 0.02, 'O14649': 0.01, 'O14672': 0.4, 'O14920': 0.14, 'O15054': 0.07, 'O15379': 0.03, 'O15496': 0.44, 'O15530': 0.29, 'O43318': 0.01, 'O60341': 0.19, 'O60427': 0.47, 'O60502': 0.14, 'O60563': 0.01, 'O60725': 0.01, 'O60885': 0.05, 'O60911': 0.02, 'O95749': 0.01, 'O75173': 0.25, 'O75460': 0.02, 'O75762': 0.99, 'O75907': 0.35, 'O94953': 0.22, 'O95665': 0.02, 'O95822': 0.04, 'P00338': 0.31, 'P00374': 0.01, 'P08311': 0.29, 'P00492': 0.05, 'P00734': 0.04, 'P00740': 0.2, 'P00797': 0.05, 'P02708': 0.63, 'P02766': 0.01, 'P03951': 0.44, 'P04066': 0.15}}"
   ]
  },
  {
   "cell_type": "code",
   "execution_count": 22,
   "metadata": {},
   "outputs": [
    {
     "data": {
      "text/plain": [
       "'{\"Cmpd1\": {\"O00206\": 0.01, \"O00329\": 0.12, \"O00398\": 0.01, \"O00519\": 0.05, \"O00748\": 0.01, \"O00767\": 0.02, \"O14649\": 0.01, \"O14672\": 0.4, \"O14920\": 0.14, \"O15054\": 0.07, \"O15379\": 0.03, \"O15496\": 0.44, \"O15530\": 0.29, \"O43318\": 0.01, \"O60341\": 0.19, \"O60427\": 0.47, \"O60502\": 0.14, \"O60563\": 0.01, \"O60725\": 0.01, \"O60885\": 0.05, \"O60911\": 0.02, \"O95749\": 0.01, \"O75173\": 0.25, \"O75460\": 0.02, \"O75762\": 0.99, \"O75907\": 0.35, \"O94953\": 0.22, \"O95665\": 0.02, \"O95822\": 0.04, \"P00338\": 0.31, \"P00374\": 0.01, \"P08311\": 0.29, \"P00492\": 0.05, \"P00734\": 0.04, \"P00740\": 0.2, \"P00797\": 0.05, \"P02708\": 0.63, \"P02766\": 0.01, \"P03951\": 0.44, \"P04066\": 0.15}}'"
      ]
     },
     "execution_count": 22,
     "metadata": {},
     "output_type": "execute_result"
    }
   ],
   "source": [
    "json.dumps(d)"
   ]
  },
  {
   "cell_type": "code",
   "execution_count": null,
   "metadata": {},
   "outputs": [],
   "source": []
  }
 ],
 "metadata": {
  "kernelspec": {
   "display_name": "Python 3",
   "language": "python",
   "name": "python3"
  },
  "language_info": {
   "codemirror_mode": {
    "name": "ipython",
    "version": 3
   },
   "file_extension": ".py",
   "mimetype": "text/x-python",
   "name": "python",
   "nbconvert_exporter": "python",
   "pygments_lexer": "ipython3",
   "version": "3.7.5"
  }
 },
 "nbformat": 4,
 "nbformat_minor": 4
}
