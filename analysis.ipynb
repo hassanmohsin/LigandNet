{
 "cells": [
  {
   "cell_type": "markdown",
   "metadata": {},
   "source": [
    "## Result Analysis I"
   ]
  },
  {
   "cell_type": "code",
   "execution_count": 1,
   "metadata": {},
   "outputs": [],
   "source": [
    "from glob import glob\n",
    "import json\n",
    "import os\n",
    "import pandas as pd\n",
    "import numpy as np\n",
    "import shutil\n",
    "import matplotlib.pyplot as plt\n",
    "%matplotlib inline"
   ]
  },
  {
   "cell_type": "code",
   "execution_count": 2,
   "metadata": {},
   "outputs": [
    {
     "name": "stdout",
     "output_type": "stream",
     "text": [
      "Number of report files: 703\n"
     ]
    }
   ],
   "source": [
    "report_files = glob('reports/*.json')\n",
    "print(f\"Number of report files: {len(report_files)}\")"
   ]
  },
  {
   "cell_type": "code",
   "execution_count": 3,
   "metadata": {},
   "outputs": [],
   "source": [
    "protein_to_uniprot = json.load(open('protein_to_uniprot.json', 'r'))\n",
    "uniprot_to_protein = json.load(open('uniprot_to_protein_name.json', 'r'))"
   ]
  },
  {
   "cell_type": "code",
   "execution_count": 4,
   "metadata": {},
   "outputs": [],
   "source": [
    "model_names= []"
   ]
  },
  {
   "cell_type": "code",
   "execution_count": 5,
   "metadata": {},
   "outputs": [],
   "source": [
    "metrics = ['accuracy', 'f1_score', 'cohen_kappa', 'mcc']\n",
    "models = ['xgb', 'rf', 'svc', 'mlp']\n",
    "data_metrics = ['train_count', 'test_count', 'actives_count', 'decoys_count']\n",
    "report = dict()\n",
    "\n",
    "for _file in report_files:\n",
    "    # Strip the model name\n",
    "    _dir, _model_name = os.path.split(_file)\n",
    "    model_name = os.path.splitext(_model_name)[0][:6]\n",
    "    \n",
    "    # Load the dictionary\n",
    "    _dict = json.load(open(_file, 'r'))\n",
    "    #model_name = _dict['xgb']['uniprot_id']\n",
    "    model_names.append(model_name)\n",
    "    \n",
    "    # Extract the metrics\n",
    "    _report = [round(_dict[model][metric], 4) for model in models for metric in metrics]\n",
    "    \n",
    "    # Find the best model\n",
    "    # Use cohen kappa, if not available then use f1 score\n",
    "    scores = np.array([_dict[model]['cohen_kappa'] for model in models])\n",
    "    best_metric = 'cohen_kappa'\n",
    "    if 0 in scores:\n",
    "        scores = np.array([_dict[model]['f1_score'] for model in models])\n",
    "        best_metric = 'f1_score'\n",
    "        \n",
    "    best_model = models[np.argmax(scores)]\n",
    "    best_score = round(np.max(scores), 4)\n",
    "    _data_info = [_dict['xgb']['data_info'][c] for c in data_metrics]\n",
    "    report[model_name] = _report + _data_info + [best_model, best_metric, best_score]\n",
    "    #break\n",
    "\n",
    "report_df = pd.DataFrame.from_dict(report, orient='index')\n",
    "report_df.columns = [f\"{model}_{metric}\" for model in models for metric in metrics] + data_metrics + ['best_model', 'best_metric', 'best_score']"
   ]
  },
  {
   "cell_type": "code",
   "execution_count": 6,
   "metadata": {},
   "outputs": [
    {
     "data": {
      "text/html": [
       "<div>\n",
       "<style scoped>\n",
       "    .dataframe tbody tr th:only-of-type {\n",
       "        vertical-align: middle;\n",
       "    }\n",
       "\n",
       "    .dataframe tbody tr th {\n",
       "        vertical-align: top;\n",
       "    }\n",
       "\n",
       "    .dataframe thead th {\n",
       "        text-align: right;\n",
       "    }\n",
       "</style>\n",
       "<table border=\"1\" class=\"dataframe\">\n",
       "  <thead>\n",
       "    <tr style=\"text-align: right;\">\n",
       "      <th></th>\n",
       "      <th>xgb_accuracy</th>\n",
       "      <th>xgb_f1_score</th>\n",
       "      <th>xgb_cohen_kappa</th>\n",
       "      <th>xgb_mcc</th>\n",
       "      <th>rf_accuracy</th>\n",
       "      <th>rf_f1_score</th>\n",
       "      <th>rf_cohen_kappa</th>\n",
       "      <th>rf_mcc</th>\n",
       "      <th>svc_accuracy</th>\n",
       "      <th>svc_f1_score</th>\n",
       "      <th>...</th>\n",
       "      <th>mlp_f1_score</th>\n",
       "      <th>mlp_cohen_kappa</th>\n",
       "      <th>mlp_mcc</th>\n",
       "      <th>train_count</th>\n",
       "      <th>test_count</th>\n",
       "      <th>actives_count</th>\n",
       "      <th>decoys_count</th>\n",
       "      <th>best_model</th>\n",
       "      <th>best_metric</th>\n",
       "      <th>best_score</th>\n",
       "    </tr>\n",
       "  </thead>\n",
       "  <tbody>\n",
       "    <tr>\n",
       "      <th>P24530</th>\n",
       "      <td>1.0000</td>\n",
       "      <td>1.0000</td>\n",
       "      <td>1.0000</td>\n",
       "      <td>1.0000</td>\n",
       "      <td>0.9916</td>\n",
       "      <td>0.9916</td>\n",
       "      <td>0.9811</td>\n",
       "      <td>0.9812</td>\n",
       "      <td>0.9916</td>\n",
       "      <td>0.9916</td>\n",
       "      <td>...</td>\n",
       "      <td>0.9916</td>\n",
       "      <td>0.9813</td>\n",
       "      <td>0.9815</td>\n",
       "      <td>475</td>\n",
       "      <td>119</td>\n",
       "      <td>198</td>\n",
       "      <td>396</td>\n",
       "      <td>xgb</td>\n",
       "      <td>cohen_kappa</td>\n",
       "      <td>1.0000</td>\n",
       "    </tr>\n",
       "    <tr>\n",
       "      <th>Q9UGN5</th>\n",
       "      <td>0.9600</td>\n",
       "      <td>0.9570</td>\n",
       "      <td>0.7289</td>\n",
       "      <td>0.7411</td>\n",
       "      <td>0.9733</td>\n",
       "      <td>0.9713</td>\n",
       "      <td>0.8193</td>\n",
       "      <td>0.8330</td>\n",
       "      <td>1.0000</td>\n",
       "      <td>1.0000</td>\n",
       "      <td>...</td>\n",
       "      <td>0.9713</td>\n",
       "      <td>0.8193</td>\n",
       "      <td>0.8330</td>\n",
       "      <td>598</td>\n",
       "      <td>150</td>\n",
       "      <td>68</td>\n",
       "      <td>680</td>\n",
       "      <td>svc</td>\n",
       "      <td>cohen_kappa</td>\n",
       "      <td>1.0000</td>\n",
       "    </tr>\n",
       "    <tr>\n",
       "      <th>P49798</th>\n",
       "      <td>0.9884</td>\n",
       "      <td>0.9880</td>\n",
       "      <td>0.9270</td>\n",
       "      <td>0.9295</td>\n",
       "      <td>1.0000</td>\n",
       "      <td>1.0000</td>\n",
       "      <td>1.0000</td>\n",
       "      <td>1.0000</td>\n",
       "      <td>0.9884</td>\n",
       "      <td>0.9887</td>\n",
       "      <td>...</td>\n",
       "      <td>0.9880</td>\n",
       "      <td>0.9270</td>\n",
       "      <td>0.9295</td>\n",
       "      <td>343</td>\n",
       "      <td>86</td>\n",
       "      <td>39</td>\n",
       "      <td>390</td>\n",
       "      <td>rf</td>\n",
       "      <td>cohen_kappa</td>\n",
       "      <td>1.0000</td>\n",
       "    </tr>\n",
       "    <tr>\n",
       "      <th>O14684</th>\n",
       "      <td>0.9914</td>\n",
       "      <td>0.9912</td>\n",
       "      <td>0.9453</td>\n",
       "      <td>0.9467</td>\n",
       "      <td>0.9871</td>\n",
       "      <td>0.9866</td>\n",
       "      <td>0.9161</td>\n",
       "      <td>0.9193</td>\n",
       "      <td>0.9756</td>\n",
       "      <td>0.9761</td>\n",
       "      <td>...</td>\n",
       "      <td>0.9891</td>\n",
       "      <td>0.9329</td>\n",
       "      <td>0.9333</td>\n",
       "      <td>5561</td>\n",
       "      <td>1391</td>\n",
       "      <td>632</td>\n",
       "      <td>6320</td>\n",
       "      <td>xgb</td>\n",
       "      <td>cohen_kappa</td>\n",
       "      <td>0.9453</td>\n",
       "    </tr>\n",
       "    <tr>\n",
       "      <th>Q9BY41</th>\n",
       "      <td>0.9724</td>\n",
       "      <td>0.9723</td>\n",
       "      <td>0.9377</td>\n",
       "      <td>0.9377</td>\n",
       "      <td>0.9807</td>\n",
       "      <td>0.9806</td>\n",
       "      <td>0.9561</td>\n",
       "      <td>0.9566</td>\n",
       "      <td>0.9420</td>\n",
       "      <td>0.9418</td>\n",
       "      <td>...</td>\n",
       "      <td>0.9530</td>\n",
       "      <td>0.8943</td>\n",
       "      <td>0.8943</td>\n",
       "      <td>1447</td>\n",
       "      <td>362</td>\n",
       "      <td>603</td>\n",
       "      <td>1206</td>\n",
       "      <td>rf</td>\n",
       "      <td>cohen_kappa</td>\n",
       "      <td>0.9561</td>\n",
       "    </tr>\n",
       "  </tbody>\n",
       "</table>\n",
       "<p>5 rows × 23 columns</p>\n",
       "</div>"
      ],
      "text/plain": [
       "        xgb_accuracy  xgb_f1_score  xgb_cohen_kappa  xgb_mcc  rf_accuracy  \\\n",
       "P24530        1.0000        1.0000           1.0000   1.0000       0.9916   \n",
       "Q9UGN5        0.9600        0.9570           0.7289   0.7411       0.9733   \n",
       "P49798        0.9884        0.9880           0.9270   0.9295       1.0000   \n",
       "O14684        0.9914        0.9912           0.9453   0.9467       0.9871   \n",
       "Q9BY41        0.9724        0.9723           0.9377   0.9377       0.9807   \n",
       "\n",
       "        rf_f1_score  rf_cohen_kappa  rf_mcc  svc_accuracy  svc_f1_score  ...  \\\n",
       "P24530       0.9916          0.9811  0.9812        0.9916        0.9916  ...   \n",
       "Q9UGN5       0.9713          0.8193  0.8330        1.0000        1.0000  ...   \n",
       "P49798       1.0000          1.0000  1.0000        0.9884        0.9887  ...   \n",
       "O14684       0.9866          0.9161  0.9193        0.9756        0.9761  ...   \n",
       "Q9BY41       0.9806          0.9561  0.9566        0.9420        0.9418  ...   \n",
       "\n",
       "        mlp_f1_score  mlp_cohen_kappa  mlp_mcc  train_count  test_count  \\\n",
       "P24530        0.9916           0.9813   0.9815          475         119   \n",
       "Q9UGN5        0.9713           0.8193   0.8330          598         150   \n",
       "P49798        0.9880           0.9270   0.9295          343          86   \n",
       "O14684        0.9891           0.9329   0.9333         5561        1391   \n",
       "Q9BY41        0.9530           0.8943   0.8943         1447         362   \n",
       "\n",
       "        actives_count  decoys_count  best_model  best_metric  best_score  \n",
       "P24530            198           396         xgb  cohen_kappa      1.0000  \n",
       "Q9UGN5             68           680         svc  cohen_kappa      1.0000  \n",
       "P49798             39           390          rf  cohen_kappa      1.0000  \n",
       "O14684            632          6320         xgb  cohen_kappa      0.9453  \n",
       "Q9BY41            603          1206          rf  cohen_kappa      0.9561  \n",
       "\n",
       "[5 rows x 23 columns]"
      ]
     },
     "execution_count": 6,
     "metadata": {},
     "output_type": "execute_result"
    }
   ],
   "source": [
    "report_df.head(5)"
   ]
  },
  {
   "cell_type": "code",
   "execution_count": 7,
   "metadata": {},
   "outputs": [],
   "source": [
    "report_df.to_csv('Report.csv')"
   ]
  },
  {
   "cell_type": "code",
   "execution_count": 8,
   "metadata": {},
   "outputs": [
    {
     "name": "stdout",
     "output_type": "stream",
     "text": [
      "best_model\n",
      "mlp    114\n",
      "rf     237\n",
      "svc    156\n",
      "xgb    196\n",
      "dtype: int64\n"
     ]
    },
    {
     "data": {
      "image/png": "[encoded data removed]",
      "text/plain": [
       "<matplotlib.figure.Figure at 0x7f66ac17d6a0>"
      ]
     },
     "metadata": {},
     "output_type": "display_data"
    }
   ],
   "source": [
    "count = report_df.groupby('best_model').size()\n",
    "print(count)\n",
    "fig1, ax1 = plt.subplots()\n",
    "ax1.pie(count, \n",
    "        autopct = '%1.1f%%',\n",
    "        startangle = 90,\n",
    "        labels = ['Artificial Neural Network', 'Random Forest', 'Support Vector Machine', 'XGBoost'])\n",
    "ax1.axis('equal')\n",
    "plt.savefig('plots/model_pie', dpi=300)\n",
    "plt.show()"
   ]
  },
  {
   "cell_type": "code",
   "execution_count": 9,
   "metadata": {},
   "outputs": [
    {
     "data": {
      "text/plain": [
       "best_metric\n",
       "cohen_kappa    703\n",
       "dtype: int64"
      ]
     },
     "execution_count": 9,
     "metadata": {},
     "output_type": "execute_result"
    }
   ],
   "source": [
    "report_df.groupby('best_metric').size()"
   ]
  },
  {
   "cell_type": "markdown",
   "metadata": {},
   "source": [
    "### Results Analysis II: Count number of models developed for each protein type"
   ]
  },
  {
   "cell_type": "code",
   "execution_count": 10,
   "metadata": {},
   "outputs": [
    {
     "data": {
      "text/html": [
       "<div>\n",
       "<style scoped>\n",
       "    .dataframe tbody tr th:only-of-type {\n",
       "        vertical-align: middle;\n",
       "    }\n",
       "\n",
       "    .dataframe tbody tr th {\n",
       "        vertical-align: top;\n",
       "    }\n",
       "\n",
       "    .dataframe thead th {\n",
       "        text-align: right;\n",
       "    }\n",
       "</style>\n",
       "<table border=\"1\" class=\"dataframe\">\n",
       "  <thead>\n",
       "    <tr style=\"text-align: right;\">\n",
       "      <th></th>\n",
       "      <th>xgb_accuracy</th>\n",
       "      <th>xgb_f1_score</th>\n",
       "      <th>xgb_cohen_kappa</th>\n",
       "      <th>xgb_mcc</th>\n",
       "      <th>rf_accuracy</th>\n",
       "      <th>rf_f1_score</th>\n",
       "      <th>rf_cohen_kappa</th>\n",
       "      <th>rf_mcc</th>\n",
       "      <th>svc_accuracy</th>\n",
       "      <th>svc_f1_score</th>\n",
       "      <th>...</th>\n",
       "      <th>mlp_f1_score</th>\n",
       "      <th>mlp_cohen_kappa</th>\n",
       "      <th>mlp_mcc</th>\n",
       "      <th>train_count</th>\n",
       "      <th>test_count</th>\n",
       "      <th>actives_count</th>\n",
       "      <th>decoys_count</th>\n",
       "      <th>best_model</th>\n",
       "      <th>best_metric</th>\n",
       "      <th>best_score</th>\n",
       "    </tr>\n",
       "  </thead>\n",
       "  <tbody>\n",
       "    <tr>\n",
       "      <th>P24530</th>\n",
       "      <td>1.0000</td>\n",
       "      <td>1.000</td>\n",
       "      <td>1.0000</td>\n",
       "      <td>1.0000</td>\n",
       "      <td>0.9916</td>\n",
       "      <td>0.9916</td>\n",
       "      <td>0.9811</td>\n",
       "      <td>0.9812</td>\n",
       "      <td>0.9916</td>\n",
       "      <td>0.9916</td>\n",
       "      <td>...</td>\n",
       "      <td>0.9916</td>\n",
       "      <td>0.9813</td>\n",
       "      <td>0.9815</td>\n",
       "      <td>475</td>\n",
       "      <td>119</td>\n",
       "      <td>198</td>\n",
       "      <td>396</td>\n",
       "      <td>xgb</td>\n",
       "      <td>cohen_kappa</td>\n",
       "      <td>1.0</td>\n",
       "    </tr>\n",
       "    <tr>\n",
       "      <th>Q9UGN5</th>\n",
       "      <td>0.9600</td>\n",
       "      <td>0.957</td>\n",
       "      <td>0.7289</td>\n",
       "      <td>0.7411</td>\n",
       "      <td>0.9733</td>\n",
       "      <td>0.9713</td>\n",
       "      <td>0.8193</td>\n",
       "      <td>0.8330</td>\n",
       "      <td>1.0000</td>\n",
       "      <td>1.0000</td>\n",
       "      <td>...</td>\n",
       "      <td>0.9713</td>\n",
       "      <td>0.8193</td>\n",
       "      <td>0.8330</td>\n",
       "      <td>598</td>\n",
       "      <td>150</td>\n",
       "      <td>68</td>\n",
       "      <td>680</td>\n",
       "      <td>svc</td>\n",
       "      <td>cohen_kappa</td>\n",
       "      <td>1.0</td>\n",
       "    </tr>\n",
       "    <tr>\n",
       "      <th>P49798</th>\n",
       "      <td>0.9884</td>\n",
       "      <td>0.988</td>\n",
       "      <td>0.9270</td>\n",
       "      <td>0.9295</td>\n",
       "      <td>1.0000</td>\n",
       "      <td>1.0000</td>\n",
       "      <td>1.0000</td>\n",
       "      <td>1.0000</td>\n",
       "      <td>0.9884</td>\n",
       "      <td>0.9887</td>\n",
       "      <td>...</td>\n",
       "      <td>0.9880</td>\n",
       "      <td>0.9270</td>\n",
       "      <td>0.9295</td>\n",
       "      <td>343</td>\n",
       "      <td>86</td>\n",
       "      <td>39</td>\n",
       "      <td>390</td>\n",
       "      <td>rf</td>\n",
       "      <td>cohen_kappa</td>\n",
       "      <td>1.0</td>\n",
       "    </tr>\n",
       "  </tbody>\n",
       "</table>\n",
       "<p>3 rows × 23 columns</p>\n",
       "</div>"
      ],
      "text/plain": [
       "        xgb_accuracy  xgb_f1_score  xgb_cohen_kappa  xgb_mcc  rf_accuracy  \\\n",
       "P24530        1.0000         1.000           1.0000   1.0000       0.9916   \n",
       "Q9UGN5        0.9600         0.957           0.7289   0.7411       0.9733   \n",
       "P49798        0.9884         0.988           0.9270   0.9295       1.0000   \n",
       "\n",
       "        rf_f1_score  rf_cohen_kappa  rf_mcc  svc_accuracy  svc_f1_score  ...  \\\n",
       "P24530       0.9916          0.9811  0.9812        0.9916        0.9916  ...   \n",
       "Q9UGN5       0.9713          0.8193  0.8330        1.0000        1.0000  ...   \n",
       "P49798       1.0000          1.0000  1.0000        0.9884        0.9887  ...   \n",
       "\n",
       "        mlp_f1_score  mlp_cohen_kappa  mlp_mcc  train_count  test_count  \\\n",
       "P24530        0.9916           0.9813   0.9815          475         119   \n",
       "Q9UGN5        0.9713           0.8193   0.8330          598         150   \n",
       "P49798        0.9880           0.9270   0.9295          343          86   \n",
       "\n",
       "        actives_count  decoys_count  best_model  best_metric  best_score  \n",
       "P24530            198           396         xgb  cohen_kappa         1.0  \n",
       "Q9UGN5             68           680         svc  cohen_kappa         1.0  \n",
       "P49798             39           390          rf  cohen_kappa         1.0  \n",
       "\n",
       "[3 rows x 23 columns]"
      ]
     },
     "execution_count": 10,
     "metadata": {},
     "output_type": "execute_result"
    }
   ],
   "source": [
    "# Load Report file\n",
    "rdf = pd.read_csv('Report.csv', index_col = 0)\n",
    "rdf.head(3)"
   ]
  },
  {
   "cell_type": "code",
   "execution_count": 11,
   "metadata": {},
   "outputs": [
    {
     "data": {
      "text/html": [
       "<div>\n",
       "<style scoped>\n",
       "    .dataframe tbody tr th:only-of-type {\n",
       "        vertical-align: middle;\n",
       "    }\n",
       "\n",
       "    .dataframe tbody tr th {\n",
       "        vertical-align: top;\n",
       "    }\n",
       "\n",
       "    .dataframe thead th {\n",
       "        text-align: right;\n",
       "    }\n",
       "</style>\n",
       "<table border=\"1\" class=\"dataframe\">\n",
       "  <thead>\n",
       "    <tr style=\"text-align: right;\">\n",
       "      <th></th>\n",
       "      <th>best_model</th>\n",
       "      <th>best_metric</th>\n",
       "      <th>best_score</th>\n",
       "    </tr>\n",
       "  </thead>\n",
       "  <tbody>\n",
       "    <tr>\n",
       "      <th>P24530</th>\n",
       "      <td>xgb</td>\n",
       "      <td>cohen_kappa</td>\n",
       "      <td>1.0</td>\n",
       "    </tr>\n",
       "    <tr>\n",
       "      <th>Q9UGN5</th>\n",
       "      <td>svc</td>\n",
       "      <td>cohen_kappa</td>\n",
       "      <td>1.0</td>\n",
       "    </tr>\n",
       "    <tr>\n",
       "      <th>P49798</th>\n",
       "      <td>rf</td>\n",
       "      <td>cohen_kappa</td>\n",
       "      <td>1.0</td>\n",
       "    </tr>\n",
       "  </tbody>\n",
       "</table>\n",
       "</div>"
      ],
      "text/plain": [
       "       best_model  best_metric  best_score\n",
       "P24530        xgb  cohen_kappa         1.0\n",
       "Q9UGN5        svc  cohen_kappa         1.0\n",
       "P49798         rf  cohen_kappa         1.0"
      ]
     },
     "execution_count": 11,
     "metadata": {},
     "output_type": "execute_result"
    }
   ],
   "source": [
    "# Select columns with information about best models\n",
    "rdf = rdf[['best_model', 'best_metric', 'best_score']]\n",
    "rdf.head(3)"
   ]
  },
  {
   "cell_type": "code",
   "execution_count": 13,
   "metadata": {},
   "outputs": [],
   "source": [
    "# Load json file containing the uniprot ids and their corresponding family name\n",
    "with open('uniprot_to_family_name.json') as json_file:\n",
    "    data = json.loads(json_file.read())\n"
   ]
  },
  {
   "cell_type": "code",
   "execution_count": 14,
   "metadata": {},
   "outputs": [],
   "source": [
    "# Create list of family name of each uniprot\n",
    "family = []\n",
    "for i in range(len(rdf)):\n",
    "    uniprot = rdf.index[i]\n",
    "    for key in data.keys():\n",
    "        if uniprot in data[key]:\n",
    "            family.append(key)\n",
    "    else:\n",
    "        continue"
   ]
  },
  {
   "cell_type": "code",
   "execution_count": 15,
   "metadata": {},
   "outputs": [
    {
     "data": {
      "text/html": [
       "<div>\n",
       "<style scoped>\n",
       "    .dataframe tbody tr th:only-of-type {\n",
       "        vertical-align: middle;\n",
       "    }\n",
       "\n",
       "    .dataframe tbody tr th {\n",
       "        vertical-align: top;\n",
       "    }\n",
       "\n",
       "    .dataframe thead th {\n",
       "        text-align: right;\n",
       "    }\n",
       "</style>\n",
       "<table border=\"1\" class=\"dataframe\">\n",
       "  <thead>\n",
       "    <tr style=\"text-align: right;\">\n",
       "      <th></th>\n",
       "      <th>protein_family</th>\n",
       "      <th>best_model</th>\n",
       "      <th>best_metric</th>\n",
       "      <th>best_score</th>\n",
       "    </tr>\n",
       "  </thead>\n",
       "  <tbody>\n",
       "    <tr>\n",
       "      <th>P24530</th>\n",
       "      <td>GPCR</td>\n",
       "      <td>xgb</td>\n",
       "      <td>cohen_kappa</td>\n",
       "      <td>1.0</td>\n",
       "    </tr>\n",
       "    <tr>\n",
       "      <th>Q9UGN5</th>\n",
       "      <td>Enzyme</td>\n",
       "      <td>svc</td>\n",
       "      <td>cohen_kappa</td>\n",
       "      <td>1.0</td>\n",
       "    </tr>\n",
       "    <tr>\n",
       "      <th>P49798</th>\n",
       "      <td>Other</td>\n",
       "      <td>rf</td>\n",
       "      <td>cohen_kappa</td>\n",
       "      <td>1.0</td>\n",
       "    </tr>\n",
       "  </tbody>\n",
       "</table>\n",
       "</div>"
      ],
      "text/plain": [
       "       protein_family best_model  best_metric  best_score\n",
       "P24530           GPCR        xgb  cohen_kappa         1.0\n",
       "Q9UGN5         Enzyme        svc  cohen_kappa         1.0\n",
       "P49798          Other         rf  cohen_kappa         1.0"
      ]
     },
     "execution_count": 15,
     "metadata": {},
     "output_type": "execute_result"
    }
   ],
   "source": [
    "# Insert the family info to existing dataframe.\n",
    "rdf.insert(0,'protein_family',family)\n",
    "rdf.head(3)"
   ]
  },
  {
   "cell_type": "code",
   "execution_count": 16,
   "metadata": {},
   "outputs": [],
   "source": [
    "# write csv file containing uniprot id, protein family, best model name, best metric and best score\n",
    "rdf.to_csv('models_with_family_name.csv', index = False)"
   ]
  },
  {
   "cell_type": "code",
   "execution_count": 17,
   "metadata": {},
   "outputs": [],
   "source": [
    "# Group by best models\n",
    "ndf = pd.DataFrame({'best_model':list(rdf['best_model']), 'protein_family':list(rdf['protein_family'])})#, 'uniprot':list(r3df['uniprot']), 'best_metric':list(r3df['best_metric']), 'best_score':list(r3df['best_score'])})"
   ]
  },
  {
   "cell_type": "code",
   "execution_count": 18,
   "metadata": {},
   "outputs": [
    {
     "data": {
      "text/plain": [
       "best_model\n",
       "mlp    [GPCR, Enzyme, IC, GPCR, Kinase, Enzyme, Enzym...\n",
       "rf     [Other, Epigenetic, Kinase, Epigenetic, Kinase...\n",
       "svc    [Enzyme, Other, Kinase, Transporter, Kinase, K...\n",
       "xgb    [GPCR, Enzyme, Kinase, GPCR, Enzyme, Enzyme, E...\n",
       "Name: protein_family, dtype: object"
      ]
     },
     "execution_count": 18,
     "metadata": {},
     "output_type": "execute_result"
    }
   ],
   "source": [
    "# make list of grouped protein families\n",
    "group_df =ndf.groupby('best_model')['protein_family'].apply(list)\n",
    "group_df"
   ]
  },
  {
   "cell_type": "code",
   "execution_count": 19,
   "metadata": {},
   "outputs": [],
   "source": [
    "group_df = ndf.groupby('best_model')['protein_family'].apply(list).reset_index(name='protein_family')"
   ]
  },
  {
   "cell_type": "code",
   "execution_count": 20,
   "metadata": {},
   "outputs": [],
   "source": [
    "# for i in range(len(group_df)):\n",
    "#     print(set(group_df['protein_family'][i]))"
   ]
  },
  {
   "cell_type": "code",
   "execution_count": 21,
   "metadata": {},
   "outputs": [
    {
     "data": {
      "text/plain": [
       "{'mlp': {'Enzyme': 44,\n",
       "  'Epigenetic': 5,\n",
       "  'GPCR': 25,\n",
       "  'IC': 6,\n",
       "  'Kinase': 26,\n",
       "  'NR': 2,\n",
       "  'Other': 5,\n",
       "  'TF': 0,\n",
       "  'TF; Epigenetic': 1,\n",
       "  'Transporter': 0},\n",
       " 'rf': {'Enzyme': 81,\n",
       "  'Epigenetic': 13,\n",
       "  'GPCR': 42,\n",
       "  'IC': 17,\n",
       "  'Kinase': 40,\n",
       "  'NR': 7,\n",
       "  'Other': 31,\n",
       "  'TF': 1,\n",
       "  'TF; Epigenetic': 0,\n",
       "  'Transporter': 5},\n",
       " 'svc': {'Enzyme': 55,\n",
       "  'Epigenetic': 6,\n",
       "  'GPCR': 21,\n",
       "  'IC': 4,\n",
       "  'Kinase': 38,\n",
       "  'NR': 6,\n",
       "  'Other': 19,\n",
       "  'TF': 2,\n",
       "  'TF; Epigenetic': 1,\n",
       "  'Transporter': 4},\n",
       " 'xgb': {'Enzyme': 79,\n",
       "  'Epigenetic': 8,\n",
       "  'GPCR': 37,\n",
       "  'IC': 13,\n",
       "  'Kinase': 29,\n",
       "  'NR': 5,\n",
       "  'Other': 18,\n",
       "  'TF': 1,\n",
       "  'TF; Epigenetic': 0,\n",
       "  'Transporter': 6}}"
      ]
     },
     "execution_count": 21,
     "metadata": {},
     "output_type": "execute_result"
    }
   ],
   "source": [
    "# Count models of each model type and protein type\n",
    "models= {}\n",
    "protein_fam = ['Kinase', 'Transporter', 'Epigenetic', 'IC', 'Other', 'NR', 'Enzyme', 'GPCR', 'TF; Epigenetic', 'TF']\n",
    "for f in range(len(group_df)):\n",
    "    name = group_df['best_model'][f]\n",
    "    models_freq  = {}\n",
    "    for p in protein_fam:\n",
    "        family_list = group_df['protein_family'][f]\n",
    "        count = family_list.count(p)\n",
    "        models_freq[p] = count\n",
    "    models[name] = models_freq\n",
    "models"
   ]
  },
  {
   "cell_type": "code",
   "execution_count": 22,
   "metadata": {},
   "outputs": [],
   "source": [
    "# Save ML models and protein types info.\n",
    "with open('models_family_frequency.json', 'w') as json_file:\n",
    "  json.dump(models, json_file)\n",
    "# Save in csv file as well\n",
    "pd.read_json('models_family_frequency.json').to_csv('models_family_frequency.csv')"
   ]
  },
  {
   "cell_type": "code",
   "execution_count": null,
   "metadata": {},
   "outputs": [],
   "source": []
  }
 ],
 "metadata": {
  "kernelspec": {
   "display_name": "Python 3",
   "language": "python",
   "name": "python3"
  },
  "language_info": {
   "codemirror_mode": {
    "name": "ipython",
    "version": 3
   },
   "file_extension": ".py",
   "mimetype": "text/x-python",
   "name": "python",
   "nbconvert_exporter": "python",
   "pygments_lexer": "ipython3",
   "version": "3.6.5"
  }
 },
 "nbformat": 4,
 "nbformat_minor": 2
}
