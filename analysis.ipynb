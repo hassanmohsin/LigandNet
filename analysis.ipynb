{
 "cells": [
  {
   "cell_type": "markdown",
   "metadata": {},
   "source": [
    "## Result Analysis I"
   ]
  },
  {
   "cell_type": "code",
   "execution_count": 1,
   "metadata": {},
   "outputs": [],
   "source": [
    "from glob import glob\n",
    "import json\n",
    "import os\n",
    "import pandas as pd\n",
    "import numpy as np\n",
    "import shutil\n",
    "import matplotlib.pyplot as plt\n",
    "%matplotlib inline"
   ]
  },
  {
   "cell_type": "code",
   "execution_count": 3,
   "metadata": {},
   "outputs": [
    {
     "name": "stdout",
     "output_type": "stream",
     "text": [
      "Number of report files: 703\n"
     ]
    }
   ],
   "source": [
    "report_files = glob('models/reports/*.json')\n",
    "print(f\"Number of report files: {len(report_files)}\")"
   ]
  },
  {
   "cell_type": "code",
   "execution_count": 4,
   "metadata": {},
   "outputs": [],
   "source": [
    "protein_to_uniprot = json.load(open('protein_to_uniprot.json', 'r'))\n",
    "uniprot_to_protein = json.load(open('uniprot_to_protein_name.json', 'r'))"
   ]
  },
  {
   "cell_type": "code",
   "execution_count": 5,
   "metadata": {},
   "outputs": [],
   "source": [
    "model_names= []"
   ]
  },
  {
   "cell_type": "code",
   "execution_count": 6,
   "metadata": {},
   "outputs": [],
   "source": [
    "metrics = ['accuracy', 'f1_score', 'cohen_kappa', 'mcc']\n",
    "models = ['xgb', 'rf', 'svc', 'mlp']\n",
    "data_metrics = ['train_count', 'test_count', 'actives_count', 'decoys_count']\n",
    "report = dict()\n",
    "\n",
    "for _file in report_files:\n",
    "    # Strip the model name\n",
    "    _dir, _model_name = os.path.split(_file)\n",
    "    model_name = os.path.splitext(_model_name)[0][:6]\n",
    "    \n",
    "    # Load the dictionary\n",
    "    _dict = json.load(open(_file, 'r'))\n",
    "    #model_name = _dict['xgb']['uniprot_id']\n",
    "    model_names.append(model_name)\n",
    "    \n",
    "    # Extract the metrics\n",
    "    _report = [round(_dict[model][metric], 4) for model in models for metric in metrics]\n",
    "    \n",
    "    # Find the best model\n",
    "    # Use cohen kappa, if not available then use f1 score\n",
    "    scores = np.array([_dict[model]['cohen_kappa'] for model in models])\n",
    "    best_metric = 'cohen_kappa'\n",
    "    if 0 in scores:\n",
    "        scores = np.array([_dict[model]['f1_score'] for model in models])\n",
    "        best_metric = 'f1_score'\n",
    "        \n",
    "    best_model = models[np.argmax(scores)]\n",
    "    best_score = round(np.max(scores), 4)\n",
    "    _data_info = [_dict['xgb']['data_info'][c] for c in data_metrics]\n",
    "    report[model_name] = _report + _data_info + [best_model, best_metric, best_score]\n",
    "    #break\n",
    "\n",
    "report_df = pd.DataFrame.from_dict(report, orient='index')\n",
    "report_df.columns = [f\"{model}_{metric}\" for model in models for metric in metrics] + data_metrics + ['best_model', 'best_metric', 'best_score']"
   ]
  },
  {
   "cell_type": "code",
   "execution_count": 7,
   "metadata": {},
   "outputs": [
    {
     "data": {
      "text/html": [
       "<div>\n",
       "<style scoped>\n",
       "    .dataframe tbody tr th:only-of-type {\n",
       "        vertical-align: middle;\n",
       "    }\n",
       "\n",
       "    .dataframe tbody tr th {\n",
       "        vertical-align: top;\n",
       "    }\n",
       "\n",
       "    .dataframe thead th {\n",
       "        text-align: right;\n",
       "    }\n",
       "</style>\n",
       "<table border=\"1\" class=\"dataframe\">\n",
       "  <thead>\n",
       "    <tr style=\"text-align: right;\">\n",
       "      <th></th>\n",
       "      <th>xgb_accuracy</th>\n",
       "      <th>xgb_f1_score</th>\n",
       "      <th>xgb_cohen_kappa</th>\n",
       "      <th>xgb_mcc</th>\n",
       "      <th>rf_accuracy</th>\n",
       "      <th>rf_f1_score</th>\n",
       "      <th>rf_cohen_kappa</th>\n",
       "      <th>rf_mcc</th>\n",
       "      <th>svc_accuracy</th>\n",
       "      <th>svc_f1_score</th>\n",
       "      <th>...</th>\n",
       "      <th>mlp_f1_score</th>\n",
       "      <th>mlp_cohen_kappa</th>\n",
       "      <th>mlp_mcc</th>\n",
       "      <th>train_count</th>\n",
       "      <th>test_count</th>\n",
       "      <th>actives_count</th>\n",
       "      <th>decoys_count</th>\n",
       "      <th>best_model</th>\n",
       "      <th>best_metric</th>\n",
       "      <th>best_score</th>\n",
       "    </tr>\n",
       "  </thead>\n",
       "  <tbody>\n",
       "    <tr>\n",
       "      <th>O00141</th>\n",
       "      <td>1.0000</td>\n",
       "      <td>1.0000</td>\n",
       "      <td>1.0000</td>\n",
       "      <td>1.0000</td>\n",
       "      <td>1.0000</td>\n",
       "      <td>1.0000</td>\n",
       "      <td>1.0000</td>\n",
       "      <td>1.0000</td>\n",
       "      <td>1.0000</td>\n",
       "      <td>1.0000</td>\n",
       "      <td>...</td>\n",
       "      <td>0.9818</td>\n",
       "      <td>0.8900</td>\n",
       "      <td>0.8900</td>\n",
       "      <td>440</td>\n",
       "      <td>110</td>\n",
       "      <td>50</td>\n",
       "      <td>500</td>\n",
       "      <td>xgb</td>\n",
       "      <td>cohen_kappa</td>\n",
       "      <td>1.0000</td>\n",
       "    </tr>\n",
       "    <tr>\n",
       "      <th>O00206</th>\n",
       "      <td>0.9583</td>\n",
       "      <td>0.9559</td>\n",
       "      <td>0.8333</td>\n",
       "      <td>0.8452</td>\n",
       "      <td>1.0000</td>\n",
       "      <td>1.0000</td>\n",
       "      <td>1.0000</td>\n",
       "      <td>1.0000</td>\n",
       "      <td>0.9583</td>\n",
       "      <td>0.9601</td>\n",
       "      <td>...</td>\n",
       "      <td>0.9601</td>\n",
       "      <td>0.8636</td>\n",
       "      <td>0.8718</td>\n",
       "      <td>96</td>\n",
       "      <td>24</td>\n",
       "      <td>20</td>\n",
       "      <td>100</td>\n",
       "      <td>rf</td>\n",
       "      <td>cohen_kappa</td>\n",
       "      <td>1.0000</td>\n",
       "    </tr>\n",
       "    <tr>\n",
       "      <th>O00255</th>\n",
       "      <td>0.9815</td>\n",
       "      <td>0.9805</td>\n",
       "      <td>0.8789</td>\n",
       "      <td>0.8854</td>\n",
       "      <td>0.9815</td>\n",
       "      <td>0.9805</td>\n",
       "      <td>0.8789</td>\n",
       "      <td>0.8854</td>\n",
       "      <td>0.9907</td>\n",
       "      <td>0.9909</td>\n",
       "      <td>...</td>\n",
       "      <td>0.9587</td>\n",
       "      <td>0.7313</td>\n",
       "      <td>0.7593</td>\n",
       "      <td>431</td>\n",
       "      <td>108</td>\n",
       "      <td>49</td>\n",
       "      <td>490</td>\n",
       "      <td>svc</td>\n",
       "      <td>cohen_kappa</td>\n",
       "      <td>0.9473</td>\n",
       "    </tr>\n",
       "    <tr>\n",
       "      <th>O00311</th>\n",
       "      <td>0.9918</td>\n",
       "      <td>0.9911</td>\n",
       "      <td>0.8195</td>\n",
       "      <td>0.8332</td>\n",
       "      <td>0.9991</td>\n",
       "      <td>0.9991</td>\n",
       "      <td>0.9826</td>\n",
       "      <td>0.9827</td>\n",
       "      <td>0.9973</td>\n",
       "      <td>0.9973</td>\n",
       "      <td>...</td>\n",
       "      <td>0.9962</td>\n",
       "      <td>0.9267</td>\n",
       "      <td>0.9292</td>\n",
       "      <td>4410</td>\n",
       "      <td>1103</td>\n",
       "      <td>149</td>\n",
       "      <td>5364</td>\n",
       "      <td>rf</td>\n",
       "      <td>cohen_kappa</td>\n",
       "      <td>0.9826</td>\n",
       "    </tr>\n",
       "    <tr>\n",
       "      <th>O00329</th>\n",
       "      <td>0.9890</td>\n",
       "      <td>0.9889</td>\n",
       "      <td>0.9318</td>\n",
       "      <td>0.9324</td>\n",
       "      <td>0.9882</td>\n",
       "      <td>0.9879</td>\n",
       "      <td>0.9249</td>\n",
       "      <td>0.9268</td>\n",
       "      <td>0.9873</td>\n",
       "      <td>0.9874</td>\n",
       "      <td>...</td>\n",
       "      <td>0.9899</td>\n",
       "      <td>0.9389</td>\n",
       "      <td>0.9389</td>\n",
       "      <td>4734</td>\n",
       "      <td>1184</td>\n",
       "      <td>538</td>\n",
       "      <td>5380</td>\n",
       "      <td>mlp</td>\n",
       "      <td>cohen_kappa</td>\n",
       "      <td>0.9389</td>\n",
       "    </tr>\n",
       "  </tbody>\n",
       "</table>\n",
       "<p>5 rows × 23 columns</p>\n",
       "</div>"
      ],
      "text/plain": [
       "        xgb_accuracy  xgb_f1_score  xgb_cohen_kappa  xgb_mcc  rf_accuracy  \\\n",
       "O00141        1.0000        1.0000           1.0000   1.0000       1.0000   \n",
       "O00206        0.9583        0.9559           0.8333   0.8452       1.0000   \n",
       "O00255        0.9815        0.9805           0.8789   0.8854       0.9815   \n",
       "O00311        0.9918        0.9911           0.8195   0.8332       0.9991   \n",
       "O00329        0.9890        0.9889           0.9318   0.9324       0.9882   \n",
       "\n",
       "        rf_f1_score  rf_cohen_kappa  rf_mcc  svc_accuracy  svc_f1_score  ...  \\\n",
       "O00141       1.0000          1.0000  1.0000        1.0000        1.0000  ...   \n",
       "O00206       1.0000          1.0000  1.0000        0.9583        0.9601  ...   \n",
       "O00255       0.9805          0.8789  0.8854        0.9907        0.9909  ...   \n",
       "O00311       0.9991          0.9826  0.9827        0.9973        0.9973  ...   \n",
       "O00329       0.9879          0.9249  0.9268        0.9873        0.9874  ...   \n",
       "\n",
       "        mlp_f1_score  mlp_cohen_kappa  mlp_mcc  train_count  test_count  \\\n",
       "O00141        0.9818           0.8900   0.8900          440         110   \n",
       "O00206        0.9601           0.8636   0.8718           96          24   \n",
       "O00255        0.9587           0.7313   0.7593          431         108   \n",
       "O00311        0.9962           0.9267   0.9292         4410        1103   \n",
       "O00329        0.9899           0.9389   0.9389         4734        1184   \n",
       "\n",
       "        actives_count  decoys_count  best_model  best_metric  best_score  \n",
       "O00141             50           500         xgb  cohen_kappa      1.0000  \n",
       "O00206             20           100          rf  cohen_kappa      1.0000  \n",
       "O00255             49           490         svc  cohen_kappa      0.9473  \n",
       "O00311            149          5364          rf  cohen_kappa      0.9826  \n",
       "O00329            538          5380         mlp  cohen_kappa      0.9389  \n",
       "\n",
       "[5 rows x 23 columns]"
      ]
     },
     "execution_count": 7,
     "metadata": {},
     "output_type": "execute_result"
    }
   ],
   "source": [
    "report_df.head(5)"
   ]
  },
  {
   "cell_type": "code",
   "execution_count": 7,
   "metadata": {},
   "outputs": [],
   "source": [
    "report_df.to_csv('Report.csv')"
   ]
  },
  {
   "cell_type": "code",
   "execution_count": 24,
   "metadata": {},
   "outputs": [
    {
     "name": "stdout",
     "output_type": "stream",
     "text": [
      "best_model\n",
      "mlp    114\n",
      "rf     238\n",
      "svc    156\n",
      "xgb    195\n",
      "dtype: int64\n"
     ]
    },
    {
     "data": {
      "image/png": "[encoded data removed]",
      "text/plain": [
       "<Figure size 432x288 with 1 Axes>"
      ]
     },
     "metadata": {},
     "output_type": "display_data"
    }
   ],
   "source": [
    "count = report_df.groupby('best_model').size()\n",
    "print(count)\n",
    "fig1, ax1 = plt.subplots()\n",
    "ax1.pie(count, \n",
    "        autopct = '%1.1f%%',\n",
    "        startangle = 90,\n",
    "        labels = ['Artificial Neural Network', 'Random Forest', 'Support Vector Machine', 'XGBoost'])\n",
    "ax1.axis('equal')\n",
    "plt.savefig('plots/model_pie', dpi=300)\n",
    "plt.show()"
   ]
  },
  {
   "cell_type": "code",
   "execution_count": 9,
   "metadata": {},
   "outputs": [
    {
     "data": {
      "text/plain": [
       "best_metric\n",
       "cohen_kappa    703\n",
       "dtype: int64"
      ]
     },
     "execution_count": 9,
     "metadata": {},
     "output_type": "execute_result"
    }
   ],
   "source": [
    "report_df.groupby('best_metric').size()"
   ]
  },
  {
   "cell_type": "markdown",
   "metadata": {},
   "source": [
    "### Results Analysis II: Count number of models developed for each protein type"
   ]
  },
  {
   "cell_type": "code",
   "execution_count": 8,
   "metadata": {},
   "outputs": [
    {
     "data": {
      "text/html": [
       "<div>\n",
       "<style scoped>\n",
       "    .dataframe tbody tr th:only-of-type {\n",
       "        vertical-align: middle;\n",
       "    }\n",
       "\n",
       "    .dataframe tbody tr th {\n",
       "        vertical-align: top;\n",
       "    }\n",
       "\n",
       "    .dataframe thead th {\n",
       "        text-align: right;\n",
       "    }\n",
       "</style>\n",
       "<table border=\"1\" class=\"dataframe\">\n",
       "  <thead>\n",
       "    <tr style=\"text-align: right;\">\n",
       "      <th></th>\n",
       "      <th>xgb_accuracy</th>\n",
       "      <th>xgb_f1_score</th>\n",
       "      <th>xgb_cohen_kappa</th>\n",
       "      <th>xgb_mcc</th>\n",
       "      <th>rf_accuracy</th>\n",
       "      <th>rf_f1_score</th>\n",
       "      <th>rf_cohen_kappa</th>\n",
       "      <th>rf_mcc</th>\n",
       "      <th>svc_accuracy</th>\n",
       "      <th>svc_f1_score</th>\n",
       "      <th>...</th>\n",
       "      <th>mlp_f1_score</th>\n",
       "      <th>mlp_cohen_kappa</th>\n",
       "      <th>mlp_mcc</th>\n",
       "      <th>train_count</th>\n",
       "      <th>test_count</th>\n",
       "      <th>actives_count</th>\n",
       "      <th>decoys_count</th>\n",
       "      <th>best_model</th>\n",
       "      <th>best_metric</th>\n",
       "      <th>best_score</th>\n",
       "    </tr>\n",
       "    <tr>\n",
       "      <th>uniprot_id</th>\n",
       "      <th></th>\n",
       "      <th></th>\n",
       "      <th></th>\n",
       "      <th></th>\n",
       "      <th></th>\n",
       "      <th></th>\n",
       "      <th></th>\n",
       "      <th></th>\n",
       "      <th></th>\n",
       "      <th></th>\n",
       "      <th></th>\n",
       "      <th></th>\n",
       "      <th></th>\n",
       "      <th></th>\n",
       "      <th></th>\n",
       "      <th></th>\n",
       "      <th></th>\n",
       "      <th></th>\n",
       "      <th></th>\n",
       "      <th></th>\n",
       "      <th></th>\n",
       "    </tr>\n",
       "  </thead>\n",
       "  <tbody>\n",
       "    <tr>\n",
       "      <th>P09038</th>\n",
       "      <td>0.9924</td>\n",
       "      <td>0.9923</td>\n",
       "      <td>0.9524</td>\n",
       "      <td>0.9535</td>\n",
       "      <td>0.9924</td>\n",
       "      <td>0.9923</td>\n",
       "      <td>0.9524</td>\n",
       "      <td>0.9535</td>\n",
       "      <td>1.0000</td>\n",
       "      <td>1.0000</td>\n",
       "      <td>...</td>\n",
       "      <td>0.9923</td>\n",
       "      <td>0.9524</td>\n",
       "      <td>0.9535</td>\n",
       "      <td>528</td>\n",
       "      <td>132</td>\n",
       "      <td>60</td>\n",
       "      <td>600</td>\n",
       "      <td>svc</td>\n",
       "      <td>cohen_kappa</td>\n",
       "      <td>1.0000</td>\n",
       "    </tr>\n",
       "    <tr>\n",
       "      <th>P04818</th>\n",
       "      <td>0.9937</td>\n",
       "      <td>0.9936</td>\n",
       "      <td>0.9614</td>\n",
       "      <td>0.9616</td>\n",
       "      <td>0.9968</td>\n",
       "      <td>0.9968</td>\n",
       "      <td>0.9807</td>\n",
       "      <td>0.9809</td>\n",
       "      <td>0.9937</td>\n",
       "      <td>0.9937</td>\n",
       "      <td>...</td>\n",
       "      <td>0.9936</td>\n",
       "      <td>0.9608</td>\n",
       "      <td>0.9616</td>\n",
       "      <td>2534</td>\n",
       "      <td>634</td>\n",
       "      <td>288</td>\n",
       "      <td>2880</td>\n",
       "      <td>rf</td>\n",
       "      <td>cohen_kappa</td>\n",
       "      <td>0.9807</td>\n",
       "    </tr>\n",
       "    <tr>\n",
       "      <th>Q16832</th>\n",
       "      <td>0.9296</td>\n",
       "      <td>0.9057</td>\n",
       "      <td>0.2680</td>\n",
       "      <td>0.3934</td>\n",
       "      <td>0.9859</td>\n",
       "      <td>0.9853</td>\n",
       "      <td>0.9015</td>\n",
       "      <td>0.9059</td>\n",
       "      <td>0.9718</td>\n",
       "      <td>0.9718</td>\n",
       "      <td>...</td>\n",
       "      <td>0.9853</td>\n",
       "      <td>0.9015</td>\n",
       "      <td>0.9059</td>\n",
       "      <td>281</td>\n",
       "      <td>71</td>\n",
       "      <td>32</td>\n",
       "      <td>320</td>\n",
       "      <td>rf</td>\n",
       "      <td>cohen_kappa</td>\n",
       "      <td>0.9015</td>\n",
       "    </tr>\n",
       "  </tbody>\n",
       "</table>\n",
       "<p>3 rows × 23 columns</p>\n",
       "</div>"
      ],
      "text/plain": [
       "            xgb_accuracy  xgb_f1_score  xgb_cohen_kappa  xgb_mcc  rf_accuracy  \\\n",
       "uniprot_id                                                                      \n",
       "P09038            0.9924        0.9923           0.9524   0.9535       0.9924   \n",
       "P04818            0.9937        0.9936           0.9614   0.9616       0.9968   \n",
       "Q16832            0.9296        0.9057           0.2680   0.3934       0.9859   \n",
       "\n",
       "            rf_f1_score  rf_cohen_kappa  rf_mcc  svc_accuracy  svc_f1_score  \\\n",
       "uniprot_id                                                                    \n",
       "P09038           0.9923          0.9524  0.9535        1.0000        1.0000   \n",
       "P04818           0.9968          0.9807  0.9809        0.9937        0.9937   \n",
       "Q16832           0.9853          0.9015  0.9059        0.9718        0.9718   \n",
       "\n",
       "            ...  mlp_f1_score  mlp_cohen_kappa  mlp_mcc  train_count  \\\n",
       "uniprot_id  ...                                                        \n",
       "P09038      ...        0.9923           0.9524   0.9535          528   \n",
       "P04818      ...        0.9936           0.9608   0.9616         2534   \n",
       "Q16832      ...        0.9853           0.9015   0.9059          281   \n",
       "\n",
       "            test_count  actives_count  decoys_count  best_model  best_metric  \\\n",
       "uniprot_id                                                                     \n",
       "P09038             132             60           600         svc  cohen_kappa   \n",
       "P04818             634            288          2880          rf  cohen_kappa   \n",
       "Q16832              71             32           320          rf  cohen_kappa   \n",
       "\n",
       "            best_score  \n",
       "uniprot_id              \n",
       "P09038          1.0000  \n",
       "P04818          0.9807  \n",
       "Q16832          0.9015  \n",
       "\n",
       "[3 rows x 23 columns]"
      ]
     },
     "execution_count": 8,
     "metadata": {},
     "output_type": "execute_result"
    }
   ],
   "source": [
    "# Load Report file\n",
    "rdf = pd.read_csv('Report.csv', index_col = 0)\n",
    "rdf.head(3)"
   ]
  },
  {
   "cell_type": "code",
   "execution_count": 11,
   "metadata": {},
   "outputs": [
    {
     "data": {
      "text/html": [
       "<div>\n",
       "<style scoped>\n",
       "    .dataframe tbody tr th:only-of-type {\n",
       "        vertical-align: middle;\n",
       "    }\n",
       "\n",
       "    .dataframe tbody tr th {\n",
       "        vertical-align: top;\n",
       "    }\n",
       "\n",
       "    .dataframe thead th {\n",
       "        text-align: right;\n",
       "    }\n",
       "</style>\n",
       "<table border=\"1\" class=\"dataframe\">\n",
       "  <thead>\n",
       "    <tr style=\"text-align: right;\">\n",
       "      <th></th>\n",
       "      <th>best_model</th>\n",
       "      <th>best_metric</th>\n",
       "      <th>best_score</th>\n",
       "    </tr>\n",
       "  </thead>\n",
       "  <tbody>\n",
       "    <tr>\n",
       "      <td>P09038</td>\n",
       "      <td>svc</td>\n",
       "      <td>cohen_kappa</td>\n",
       "      <td>1.0000</td>\n",
       "    </tr>\n",
       "    <tr>\n",
       "      <td>P04818</td>\n",
       "      <td>rf</td>\n",
       "      <td>cohen_kappa</td>\n",
       "      <td>0.9807</td>\n",
       "    </tr>\n",
       "    <tr>\n",
       "      <td>Q16832</td>\n",
       "      <td>rf</td>\n",
       "      <td>cohen_kappa</td>\n",
       "      <td>0.9015</td>\n",
       "    </tr>\n",
       "  </tbody>\n",
       "</table>\n",
       "</div>"
      ],
      "text/plain": [
       "       best_model  best_metric  best_score\n",
       "P09038        svc  cohen_kappa      1.0000\n",
       "P04818         rf  cohen_kappa      0.9807\n",
       "Q16832         rf  cohen_kappa      0.9015"
      ]
     },
     "execution_count": 11,
     "metadata": {},
     "output_type": "execute_result"
    }
   ],
   "source": [
    "# Select columns with information about best models\n",
    "rdf = rdf[['best_model', 'best_metric', 'best_score']]\n",
    "rdf.head(3)"
   ]
  },
  {
   "cell_type": "code",
   "execution_count": 12,
   "metadata": {},
   "outputs": [],
   "source": [
    "# Load json file containing the uniprot ids and their corresponding family name\n",
    "with open('uniprot_to_family_name.json') as json_file:\n",
    "    data = json.loads(json_file.read())\n"
   ]
  },
  {
   "cell_type": "code",
   "execution_count": 13,
   "metadata": {},
   "outputs": [],
   "source": [
    "# Create list of family name of each uniprot\n",
    "family = []\n",
    "for i in range(len(rdf)):\n",
    "    uniprot = rdf.index[i]\n",
    "    for key in data.keys():\n",
    "        if uniprot in data[key]:\n",
    "            family.append(key)\n",
    "    else:\n",
    "        continue"
   ]
  },
  {
   "cell_type": "code",
   "execution_count": 14,
   "metadata": {},
   "outputs": [
    {
     "data": {
      "text/html": [
       "<div>\n",
       "<style scoped>\n",
       "    .dataframe tbody tr th:only-of-type {\n",
       "        vertical-align: middle;\n",
       "    }\n",
       "\n",
       "    .dataframe tbody tr th {\n",
       "        vertical-align: top;\n",
       "    }\n",
       "\n",
       "    .dataframe thead th {\n",
       "        text-align: right;\n",
       "    }\n",
       "</style>\n",
       "<table border=\"1\" class=\"dataframe\">\n",
       "  <thead>\n",
       "    <tr style=\"text-align: right;\">\n",
       "      <th></th>\n",
       "      <th>protein_family</th>\n",
       "      <th>best_model</th>\n",
       "      <th>best_metric</th>\n",
       "      <th>best_score</th>\n",
       "    </tr>\n",
       "  </thead>\n",
       "  <tbody>\n",
       "    <tr>\n",
       "      <td>P09038</td>\n",
       "      <td>Other</td>\n",
       "      <td>svc</td>\n",
       "      <td>cohen_kappa</td>\n",
       "      <td>1.0000</td>\n",
       "    </tr>\n",
       "    <tr>\n",
       "      <td>P04818</td>\n",
       "      <td>Enzyme</td>\n",
       "      <td>rf</td>\n",
       "      <td>cohen_kappa</td>\n",
       "      <td>0.9807</td>\n",
       "    </tr>\n",
       "    <tr>\n",
       "      <td>Q16832</td>\n",
       "      <td>Kinase</td>\n",
       "      <td>rf</td>\n",
       "      <td>cohen_kappa</td>\n",
       "      <td>0.9015</td>\n",
       "    </tr>\n",
       "  </tbody>\n",
       "</table>\n",
       "</div>"
      ],
      "text/plain": [
       "       protein_family best_model  best_metric  best_score\n",
       "P09038          Other        svc  cohen_kappa      1.0000\n",
       "P04818         Enzyme         rf  cohen_kappa      0.9807\n",
       "Q16832         Kinase         rf  cohen_kappa      0.9015"
      ]
     },
     "execution_count": 14,
     "metadata": {},
     "output_type": "execute_result"
    }
   ],
   "source": [
    "# Insert the family info to existing dataframe.\n",
    "rdf.insert(0,'protein_family',family)\n",
    "rdf.head(3)"
   ]
  },
  {
   "cell_type": "code",
   "execution_count": 15,
   "metadata": {},
   "outputs": [],
   "source": [
    "# write csv file containing uniprot id, protein family, best model name, best metric and best score\n",
    "rdf.to_csv('models_with_family_name.csv', index = False)"
   ]
  },
  {
   "cell_type": "code",
   "execution_count": 16,
   "metadata": {},
   "outputs": [],
   "source": [
    "# Group by best models\n",
    "ndf = pd.DataFrame({'best_model':list(rdf['best_model']), 'protein_family':list(rdf['protein_family'])})#, 'uniprot':list(r3df['uniprot']), 'best_metric':list(r3df['best_metric']), 'best_score':list(r3df['best_score'])})"
   ]
  },
  {
   "cell_type": "code",
   "execution_count": 17,
   "metadata": {},
   "outputs": [
    {
     "data": {
      "text/plain": [
       "best_model\n",
       "mlp    [Enzyme, Enzyme, Enzyme, GPCR, NR, Enzyme, TF;...\n",
       "rf     [Enzyme, Kinase, Transporter, TF, Epigenetic, ...\n",
       "svc    [Other, Enzyme, Kinase, Enzyme, Enzyme, Enzyme...\n",
       "xgb    [GPCR, Enzyme, GPCR, GPCR, Enzyme, Enzyme, GPC...\n",
       "Name: protein_family, dtype: object"
      ]
     },
     "execution_count": 17,
     "metadata": {},
     "output_type": "execute_result"
    }
   ],
   "source": [
    "# make list of grouped protein families\n",
    "group_df =ndf.groupby('best_model')['protein_family'].apply(list)\n",
    "group_df"
   ]
  },
  {
   "cell_type": "code",
   "execution_count": 18,
   "metadata": {},
   "outputs": [
    {
     "name": "stdout",
     "output_type": "stream",
     "text": [
      "<class 'pandas.core.series.Series'>\n"
     ]
    }
   ],
   "source": [
    "print(type(group_df))"
   ]
  },
  {
   "cell_type": "code",
   "execution_count": 19,
   "metadata": {},
   "outputs": [],
   "source": [
    "group_df = ndf.groupby('best_model')['protein_family'].apply(list).reset_index(name='protein_family')"
   ]
  },
  {
   "cell_type": "code",
   "execution_count": 20,
   "metadata": {},
   "outputs": [
    {
     "data": {
      "text/html": [
       "<div>\n",
       "<style scoped>\n",
       "    .dataframe tbody tr th:only-of-type {\n",
       "        vertical-align: middle;\n",
       "    }\n",
       "\n",
       "    .dataframe tbody tr th {\n",
       "        vertical-align: top;\n",
       "    }\n",
       "\n",
       "    .dataframe thead th {\n",
       "        text-align: right;\n",
       "    }\n",
       "</style>\n",
       "<table border=\"1\" class=\"dataframe\">\n",
       "  <thead>\n",
       "    <tr style=\"text-align: right;\">\n",
       "      <th></th>\n",
       "      <th>best_model</th>\n",
       "      <th>protein_family</th>\n",
       "    </tr>\n",
       "  </thead>\n",
       "  <tbody>\n",
       "    <tr>\n",
       "      <td>0</td>\n",
       "      <td>mlp</td>\n",
       "      <td>[Enzyme, Enzyme, Enzyme, GPCR, NR, Enzyme, TF;...</td>\n",
       "    </tr>\n",
       "    <tr>\n",
       "      <td>1</td>\n",
       "      <td>rf</td>\n",
       "      <td>[Enzyme, Kinase, Transporter, TF, Epigenetic, ...</td>\n",
       "    </tr>\n",
       "    <tr>\n",
       "      <td>2</td>\n",
       "      <td>svc</td>\n",
       "      <td>[Other, Enzyme, Kinase, Enzyme, Enzyme, Enzyme...</td>\n",
       "    </tr>\n",
       "    <tr>\n",
       "      <td>3</td>\n",
       "      <td>xgb</td>\n",
       "      <td>[GPCR, Enzyme, GPCR, GPCR, Enzyme, Enzyme, GPC...</td>\n",
       "    </tr>\n",
       "  </tbody>\n",
       "</table>\n",
       "</div>"
      ],
      "text/plain": [
       "  best_model                                     protein_family\n",
       "0        mlp  [Enzyme, Enzyme, Enzyme, GPCR, NR, Enzyme, TF;...\n",
       "1         rf  [Enzyme, Kinase, Transporter, TF, Epigenetic, ...\n",
       "2        svc  [Other, Enzyme, Kinase, Enzyme, Enzyme, Enzyme...\n",
       "3        xgb  [GPCR, Enzyme, GPCR, GPCR, Enzyme, Enzyme, GPC..."
      ]
     },
     "execution_count": 20,
     "metadata": {},
     "output_type": "execute_result"
    }
   ],
   "source": [
    "group_df"
   ]
  },
  {
   "cell_type": "code",
   "execution_count": 21,
   "metadata": {},
   "outputs": [],
   "source": [
    "# for i in range(len(group_df)):\n",
    "#     print(set(group_df['protein_family'][i]))"
   ]
  },
  {
   "cell_type": "code",
   "execution_count": 22,
   "metadata": {},
   "outputs": [
    {
     "data": {
      "text/plain": [
       "{'mlp': {'Kinase': 26,\n",
       "  'Transporter': 0,\n",
       "  'Epigenetic': 5,\n",
       "  'IC': 6,\n",
       "  'Other': 5,\n",
       "  'NR': 2,\n",
       "  'Enzyme': 43,\n",
       "  'GPCR': 26,\n",
       "  'TF; Epigenetic': 1,\n",
       "  'TF': 0},\n",
       " 'rf': {'Kinase': 40,\n",
       "  'Transporter': 5,\n",
       "  'Epigenetic': 13,\n",
       "  'IC': 17,\n",
       "  'Other': 31,\n",
       "  'NR': 7,\n",
       "  'Enzyme': 82,\n",
       "  'GPCR': 41,\n",
       "  'TF; Epigenetic': 0,\n",
       "  'TF': 2},\n",
       " 'svc': {'Kinase': 38,\n",
       "  'Transporter': 4,\n",
       "  'Epigenetic': 6,\n",
       "  'IC': 4,\n",
       "  'Other': 19,\n",
       "  'NR': 6,\n",
       "  'Enzyme': 55,\n",
       "  'GPCR': 21,\n",
       "  'TF; Epigenetic': 1,\n",
       "  'TF': 2},\n",
       " 'xgb': {'Kinase': 29,\n",
       "  'Transporter': 6,\n",
       "  'Epigenetic': 8,\n",
       "  'IC': 13,\n",
       "  'Other': 18,\n",
       "  'NR': 5,\n",
       "  'Enzyme': 79,\n",
       "  'GPCR': 37,\n",
       "  'TF; Epigenetic': 0,\n",
       "  'TF': 0}}"
      ]
     },
     "execution_count": 22,
     "metadata": {},
     "output_type": "execute_result"
    }
   ],
   "source": [
    "# Count models of each model type and protein type\n",
    "models= {}\n",
    "protein_fam = ['Kinase', 'Transporter', 'Epigenetic', 'IC', 'Other', 'NR', 'Enzyme', 'GPCR', 'TF; Epigenetic', 'TF']\n",
    "for f in range(len(group_df)):\n",
    "    name = group_df['best_model'][f]\n",
    "    models_freq  = {}\n",
    "    for p in protein_fam:\n",
    "        family_list = group_df['protein_family'][f]\n",
    "        count = family_list.count(p)\n",
    "        models_freq[p] = count\n",
    "    models[name] = models_freq\n",
    "models"
   ]
  },
  {
   "cell_type": "code",
   "execution_count": 23,
   "metadata": {},
   "outputs": [],
   "source": [
    "# Save ML models and protein types info.\n",
    "with open('models_family_frequency.json', 'w') as json_file:\n",
    "    json.dump(models, json_file)\n",
    "# Save in csv file as well\n",
    "pd.read_json('models_family_frequency.json').to_csv('models_family_frequency.csv')"
   ]
  },
  {
   "cell_type": "code",
   "execution_count": null,
   "metadata": {},
   "outputs": [],
   "source": []
  }
 ],
 "metadata": {
  "kernelspec": {
   "display_name": "Python 3",
   "language": "python",
   "name": "python3"
  },
  "language_info": {
   "codemirror_mode": {
    "name": "ipython",
    "version": 3
   },
   "file_extension": ".py",
   "mimetype": "text/x-python",
   "name": "python",
   "nbconvert_exporter": "python",
   "pygments_lexer": "ipython3",
   "version": "3.7.5"
  }
 },
 "nbformat": 4,
 "nbformat_minor": 4
}
