{
 "cells": [
  {
   "cell_type": "code",
   "execution_count": 1,
   "metadata": {},
   "outputs": [],
   "source": [
    "import pandas as pd\n",
    "import json"
   ]
  },
  {
   "cell_type": "code",
   "execution_count": 2,
   "metadata": {},
   "outputs": [
    {
     "data": {
      "text/html": [
       "<div>\n",
       "<style scoped>\n",
       "    .dataframe tbody tr th:only-of-type {\n",
       "        vertical-align: middle;\n",
       "    }\n",
       "\n",
       "    .dataframe tbody tr th {\n",
       "        vertical-align: top;\n",
       "    }\n",
       "\n",
       "    .dataframe thead th {\n",
       "        text-align: right;\n",
       "    }\n",
       "</style>\n",
       "<table border=\"1\" class=\"dataframe\">\n",
       "  <thead>\n",
       "    <tr style=\"text-align: right;\">\n",
       "      <th></th>\n",
       "      <th>id</th>\n",
       "      <th>name</th>\n",
       "      <th>tdl</th>\n",
       "      <th>fam</th>\n",
       "      <th>famext</th>\n",
       "      <th>uniprot_name</th>\n",
       "      <th>description</th>\n",
       "      <th>uniprot</th>\n",
       "      <th>seq</th>\n",
       "      <th>sym</th>\n",
       "    </tr>\n",
       "  </thead>\n",
       "  <tbody>\n",
       "    <tr>\n",
       "      <th>0</th>\n",
       "      <td>23</td>\n",
       "      <td>3 beta-hydroxysteroid dehydrogenase/Delta 5--&gt;...</td>\n",
       "      <td>Tchem</td>\n",
       "      <td>Enzyme</td>\n",
       "      <td>3-beta-HSD</td>\n",
       "      <td>3BHS1_HUMAN</td>\n",
       "      <td>3 beta-hydroxysteroid dehydrogenase/Delta 5--&gt;...</td>\n",
       "      <td>P14060</td>\n",
       "      <td>MTGWSCLVTGAGGFLGQRIIRLLVKEKELKEIRVLDKAFGPELREE...</td>\n",
       "      <td>HSD3B1</td>\n",
       "    </tr>\n",
       "    <tr>\n",
       "      <th>1</th>\n",
       "      <td>26</td>\n",
       "      <td>5-hydroxytryptamine receptor 2B</td>\n",
       "      <td>Tclin</td>\n",
       "      <td>GPCR</td>\n",
       "      <td>GPCR</td>\n",
       "      <td>5HT2B_HUMAN</td>\n",
       "      <td>5-hydroxytryptamine receptor 2B</td>\n",
       "      <td>P41595</td>\n",
       "      <td>MALSYRVSELQSTIPEHILQSTFVHVISSNWSGLQTESIPEEMKQI...</td>\n",
       "      <td>HTR2B</td>\n",
       "    </tr>\n",
       "    <tr>\n",
       "      <th>2</th>\n",
       "      <td>27</td>\n",
       "      <td>5-hydroxytryptamine receptor 2C</td>\n",
       "      <td>Tclin</td>\n",
       "      <td>GPCR</td>\n",
       "      <td>GPCR</td>\n",
       "      <td>5HT2C_HUMAN</td>\n",
       "      <td>5-hydroxytryptamine receptor 2C</td>\n",
       "      <td>P28335</td>\n",
       "      <td>MVNLRNAVHSFLVHLIGLLVWQCDISVSPVAAIVTDIFNTSDGGRF...</td>\n",
       "      <td>HTR2C</td>\n",
       "    </tr>\n",
       "    <tr>\n",
       "      <th>3</th>\n",
       "      <td>30</td>\n",
       "      <td>5'-nucleotidase</td>\n",
       "      <td>Tchem</td>\n",
       "      <td>Enzyme</td>\n",
       "      <td>NaN</td>\n",
       "      <td>5NTD_HUMAN</td>\n",
       "      <td>5'-nucleotidase</td>\n",
       "      <td>P21589</td>\n",
       "      <td>MCPRAARAPATLLLALGAVLWPAAGAWELTILHTNDVHSRLEQTSE...</td>\n",
       "      <td>NT5E</td>\n",
       "    </tr>\n",
       "    <tr>\n",
       "      <th>4</th>\n",
       "      <td>39</td>\n",
       "      <td>Adenosine receptor A3</td>\n",
       "      <td>Tchem</td>\n",
       "      <td>GPCR</td>\n",
       "      <td>GPCR</td>\n",
       "      <td>AA3R_HUMAN</td>\n",
       "      <td>Adenosine receptor A3</td>\n",
       "      <td>P0DMS8</td>\n",
       "      <td>MPNNSTALSLANVTYITMEIFIGLCAIVGNVLVICVVKLNPSLQTT...</td>\n",
       "      <td>ADORA3</td>\n",
       "    </tr>\n",
       "  </tbody>\n",
       "</table>\n",
       "</div>"
      ],
      "text/plain": [
       "   id                                               name    tdl     fam  \\\n",
       "0  23  3 beta-hydroxysteroid dehydrogenase/Delta 5-->...  Tchem  Enzyme   \n",
       "1  26                    5-hydroxytryptamine receptor 2B  Tclin    GPCR   \n",
       "2  27                    5-hydroxytryptamine receptor 2C  Tclin    GPCR   \n",
       "3  30                                    5'-nucleotidase  Tchem  Enzyme   \n",
       "4  39                              Adenosine receptor A3  Tchem    GPCR   \n",
       "\n",
       "       famext uniprot_name                                        description  \\\n",
       "0  3-beta-HSD  3BHS1_HUMAN  3 beta-hydroxysteroid dehydrogenase/Delta 5-->...   \n",
       "1        GPCR  5HT2B_HUMAN                    5-hydroxytryptamine receptor 2B   \n",
       "2        GPCR  5HT2C_HUMAN                    5-hydroxytryptamine receptor 2C   \n",
       "3         NaN   5NTD_HUMAN                                    5'-nucleotidase   \n",
       "4        GPCR   AA3R_HUMAN                              Adenosine receptor A3   \n",
       "\n",
       "  uniprot                                                seq     sym  \n",
       "0  P14060  MTGWSCLVTGAGGFLGQRIIRLLVKEKELKEIRVLDKAFGPELREE...  HSD3B1  \n",
       "1  P41595  MALSYRVSELQSTIPEHILQSTFVHVISSNWSGLQTESIPEEMKQI...   HTR2B  \n",
       "2  P28335  MVNLRNAVHSFLVHLIGLLVWQCDISVSPVAAIVTDIFNTSDGGRF...   HTR2C  \n",
       "3  P21589  MCPRAARAPATLLLALGAVLWPAAGAWELTILHTNDVHSRLEQTSE...    NT5E  \n",
       "4  P0DMS8  MPNNSTALSLANVTYITMEIFIGLCAIVGNVLVICVVKLNPSLQTT...  ADORA3  "
      ]
     },
     "execution_count": 2,
     "metadata": {},
     "output_type": "execute_result"
    }
   ],
   "source": [
    "df = pd.read_csv('../../model_info.csv')\n",
    "df.head()"
   ]
  },
  {
   "cell_type": "code",
   "execution_count": 3,
   "metadata": {},
   "outputs": [],
   "source": [
    "uniprot_to_model = json.load(open('../../uniprot_to_protein_name.json', 'r'))\n",
    "model_names = json.load(open('../../model_to_uniprot.json', 'r'))"
   ]
  },
  {
   "cell_type": "markdown",
   "metadata": {},
   "source": [
    "List idg proteins from https://commonfund.nih.gov/idg/understudiedproteins"
   ]
  },
  {
   "cell_type": "code",
   "execution_count": 40,
   "metadata": {},
   "outputs": [],
   "source": [
    "kinases = \"PRKAG1, PRKAB1, ADCK2, ADCK5, ALPK3, ADCK4, ALPK2, BCKDK, CAMKV, CDKL3, CDKL4, CDKL1, CDKL2, CDK15, CDK17, CDK11B, CDK14, CDK18, CLK4, CDK10, CLK3, CSNK2A2, DGKH, DYRK3, DYRK1B, DYRK4, EEF2K, DYRK2, ERN2, FASTK, GK2, HIPK4, ITPKA, CSNK1G3, CSNK1G2, PRKACG, CSNK1G1, ITPK1, PSKH2, CAMK1D, TK2, PRKACB, PNCK, CAMK1G, CAMKK1, PSKH1, PHKA1, RPS6KC1, PRKCQ, LMTK3, MARK4, MAST3, LRRK1, MAP3K14, LTK, MAP3K10, MAST4, MAST2, MAPK15, MAPK4, MKNK2, CDC42BPG, CDC42BPB, NEK11, NEK5, NEK10, NIM1K, NEK4, NEK6, NRK, NEK7, SCYL1, NRBP2, PIK3C2G, PAK7, PANK3, PIK3C2B, PAK3, PAK6, SCYL3, PDIK1L, PIP4K2C, PIP5K1A, PLK5, PHKG1, PHKG2, PI4KA, PIP5K1B, PKMYT1, PKN3, PRPF4B, TP53RK, PRKRA, PRKY, PXK, RIOK1, RIOK3, RPS6KL1, SBK2, SCYL2, SBK3, SGK494, POMK, SGK223, SRPK3, STK32C, STK33, STK32B, STK40, STK17A, STK36, STK32A, STK38L, STKLD1, STK3, STK31, TESK2, TESK1, TBCK, TLK1, TPK1, TLK2, TSSK6, TSSK1B, TTBK2, TSSK4, TTBK1, TSSK3, UCK1, ULK4, UCK2, WNK2, VRK2, WEE2\".split(', ')\n",
    "ion_channels =\"HTR3B, HTR3E, HTR3D, CHRNB2, HTR3C, CHRND, CHRNB1, CHRNA10, CHRNA2, CHRNA9, CHRNG, ASIC4, ASIC5, BEST4, CACNA2D1, CACNA2D3, CACNA2D4, CACNB1, CACNB2, CACNB3, CACNA2D2, CACNG6, CACNA1F, CACNB4, CACNG1, CACNG5, CACNG3, CACNG7, CACNG4, CACNG8, CLCNKA, CLIC6, CLIC2, CLCA4, CLCC1, CLCA3P, CNGA4, CLCN6, CLIC5, CLCA2, CLIC3, CATSPER4, CATSPER2, FAM26F, FAM26D, FAM26E, FXYD3, FXYD7, FXYD6P3, GABRA6, GABRG3, GABRR3, GABRB1, GABRG1, GABRP, GABRA5, GABRR1, GPR89A, GLRA3, GLRA4, GLRB, GPR89A, GRID1, GRIK3, HCN3, KCND1, KCNK4, KCNK7, KCNS1, KCNS2, KCNIP1, KCNJ15, KCNMB4, KCNK16, ITPR2, KCNH6, KCNH7, KCNH8, KCNK12, KCNMB3, KCNA6, KCNG2, KCNN1, KCNAB2, KCNIP4, KCNC4, KCNG3, KCNH4, KCNS3, KCNAB3, KCNG4, KCNA7, KCNT1, KCNJ14, KCNJ18, KCNV1, LRRC52, LRRC55, LRRC38, PANX3, PANX2, PLLP, PKD1L2, PKD2L2, PKD1L3, SLC26A1, SCN3B, SCN7A, SCNN1D, SCN2B, SCNN1B, TMC5, TMC7, TMEM38B, TMC3, TMC4, TTYH2, TTYH1\".split(\", \")\n",
    "non_olfactory_gpcr = \"HTR1E, HTR5A, ADGRD1, ADGRE2, ADGRF5, ADGRG4, ADGRG7, ADGRB2, ADGRF2, ADGRF4, CHRM5, ADGRF1, ADGRG3, ADGRG5, ADGRD2, ADGRE1, ADGRE3, ADGRF3, ADGRG2, ADGRB3, ADGRA1, ADGRE4P, ADGRL3, CELSR2, GPR137, FZD10, GPR32P1, GALR3, GPR139, GPR149, GPR171, GPR174, GPR142, GPR151, GPR156, GPRC5D, GPR153, GPR33, GPR25, GPR45, GPR75, GPR88, GNRHR2, GPR150, GPR18, GPR62, GPR82, GPR87, GPR101, GPR173, GPRC5C, GPR32, GPR63, GPRC5B, GPR12, GPR135, GPR141, GPR146, GPR152, GPR157, GPR160, GPR42, GPR52, GPR143, GPR162, GPR26, GPR21, GPR61, GPR20, GPR27, GPR31, GPR34, GPR39, GPR4, GPR6, GPR78, GPR85, GPR19, GPR22, HCAR1, HCAR3, MAS1L, LPAR6, MRGPRX4, MRGPRG, MRGPRX2, MTNR1A, MRGPRE, MRGPRX3, NPBWR1, NPBWR2, NPY6R, NPY2R, NPY5R, OPN1MW2, OXGR1, P2RY10, OXER1, RRH, P2RY11, PROKR1, QRFPR, GPRC5A, RXFP3, RXFP4, S1PR4, SSTR4, SUCNR1, TAS2R31, TAS2R14, TAAR3, TAS2R10, TAS2R41, TAS2R43, TAS2R50, TAAR2, TAAR8, TAS2R19, TAS2R7, TAS2R9, TAS2R13, TAS2R20, TAS2R40, TAS2R60, TAS2R3, TAS2R4, TAS2R5, TAS2R16, TAS2R8, TAAR9, TAS2R39, TAS2R1, TAS2R30, TAS2R42, TAS2R46, TPRA1, AVPR1B, VN1R17P, VN1R3, VN1R5, VN1R1, VN1R4, VN1R2\".split(\", \")"
   ]
  },
  {
   "cell_type": "code",
   "execution_count": 42,
   "metadata": {},
   "outputs": [
    {
     "data": {
      "text/plain": [
       "(134, 118, 143)"
      ]
     },
     "execution_count": 42,
     "metadata": {},
     "output_type": "execute_result"
    }
   ],
   "source": [
    "len(kinases), len(ion_channels), len(non_olfactory_gpcr)"
   ]
  },
  {
   "cell_type": "code",
   "execution_count": 46,
   "metadata": {},
   "outputs": [
    {
     "data": {
      "text/plain": [
       "6"
      ]
     },
     "execution_count": 46,
     "metadata": {},
     "output_type": "execute_result"
    }
   ],
   "source": [
    "kinase_models = df[df.sym.isin(kinases)]\n",
    "len(kinase_models)"
   ]
  },
  {
   "cell_type": "code",
   "execution_count": 47,
   "metadata": {},
   "outputs": [
    {
     "data": {
      "text/plain": [
       "12"
      ]
     },
     "execution_count": 47,
     "metadata": {},
     "output_type": "execute_result"
    }
   ],
   "source": [
    "ion_channel_models = df[df.sym.isin(ion_channels)]\n",
    "len(ion_channel_models)"
   ]
  },
  {
   "cell_type": "code",
   "execution_count": 48,
   "metadata": {},
   "outputs": [
    {
     "data": {
      "text/plain": [
       "14"
      ]
     },
     "execution_count": 48,
     "metadata": {},
     "output_type": "execute_result"
    }
   ],
   "source": [
    "gpcr_models = df[df.sym.isin(non_olfactory_gpcr)]\n",
    "len(gpcr_models)"
   ]
  },
  {
   "cell_type": "code",
   "execution_count": 49,
   "metadata": {},
   "outputs": [
    {
     "data": {
      "text/html": [
       "<div>\n",
       "<style scoped>\n",
       "    .dataframe tbody tr th:only-of-type {\n",
       "        vertical-align: middle;\n",
       "    }\n",
       "\n",
       "    .dataframe tbody tr th {\n",
       "        vertical-align: top;\n",
       "    }\n",
       "\n",
       "    .dataframe thead th {\n",
       "        text-align: right;\n",
       "    }\n",
       "</style>\n",
       "<table border=\"1\" class=\"dataframe\">\n",
       "  <thead>\n",
       "    <tr style=\"text-align: right;\">\n",
       "      <th></th>\n",
       "      <th>id</th>\n",
       "      <th>name</th>\n",
       "      <th>tdl</th>\n",
       "      <th>fam</th>\n",
       "      <th>famext</th>\n",
       "      <th>uniprot_name</th>\n",
       "      <th>description</th>\n",
       "      <th>uniprot</th>\n",
       "      <th>seq</th>\n",
       "      <th>sym</th>\n",
       "    </tr>\n",
       "  </thead>\n",
       "  <tbody>\n",
       "    <tr>\n",
       "      <th>179</th>\n",
       "      <td>2529</td>\n",
       "      <td>Dual specificity protein kinase CLK4</td>\n",
       "      <td>Tchem</td>\n",
       "      <td>Kinase</td>\n",
       "      <td>Kinase</td>\n",
       "      <td>CLK4_HUMAN</td>\n",
       "      <td>Dual specificity protein kinase CLK4</td>\n",
       "      <td>Q9HAZ1</td>\n",
       "      <td>MRHSKRTHCPDWDSRESWGHESYRGSHKRKRRSHSSTQENRHCKPH...</td>\n",
       "      <td>CLK4</td>\n",
       "    </tr>\n",
       "    <tr>\n",
       "      <th>266</th>\n",
       "      <td>4889</td>\n",
       "      <td>Dual specificity tyrosine-phosphorylation-regu...</td>\n",
       "      <td>Tchem</td>\n",
       "      <td>Kinase</td>\n",
       "      <td>Kinase</td>\n",
       "      <td>DYR1B_HUMAN</td>\n",
       "      <td>Dual specificity tyrosine-phosphorylation-regu...</td>\n",
       "      <td>Q9Y463</td>\n",
       "      <td>MAVPPGHGPFSGFPGPQEHTQVLPDVRLLPRRLPLAFRDATSAPLR...</td>\n",
       "      <td>DYRK1B</td>\n",
       "    </tr>\n",
       "    <tr>\n",
       "      <th>494</th>\n",
       "      <td>9233</td>\n",
       "      <td>Protein kinase C theta type</td>\n",
       "      <td>Tchem</td>\n",
       "      <td>Kinase</td>\n",
       "      <td>Kinase</td>\n",
       "      <td>KPCT_HUMAN</td>\n",
       "      <td>Protein kinase C theta type</td>\n",
       "      <td>Q04759</td>\n",
       "      <td>MSPFLRIGLSNFDCGSCQSCQGEAVNPYCAVLVKEYVESENGQMYI...</td>\n",
       "      <td>PRKCQ</td>\n",
       "    </tr>\n",
       "    <tr>\n",
       "      <th>523</th>\n",
       "      <td>9687</td>\n",
       "      <td>Mitogen-activated protein kinase kinase kinase 14</td>\n",
       "      <td>Tchem</td>\n",
       "      <td>Kinase</td>\n",
       "      <td>Kinase</td>\n",
       "      <td>M3K14_HUMAN</td>\n",
       "      <td>Mitogen-activated protein kinase kinase kinase 14</td>\n",
       "      <td>Q99558</td>\n",
       "      <td>MAVMEMACPGAPGSAVGQQKELPKAKEKTPPLGKKQSSVYKLEAVE...</td>\n",
       "      <td>MAP3K14</td>\n",
       "    </tr>\n",
       "    <tr>\n",
       "      <th>562</th>\n",
       "      <td>10403</td>\n",
       "      <td>MAP kinase-interacting serine/threonine-protei...</td>\n",
       "      <td>Tchem</td>\n",
       "      <td>Kinase</td>\n",
       "      <td>Kinase</td>\n",
       "      <td>MKNK2_HUMAN</td>\n",
       "      <td>MAP kinase-interacting serine/threonine-protei...</td>\n",
       "      <td>Q9HBH9</td>\n",
       "      <td>MVQKKPAELQGFHRSFKGQNPFELAFSLDQPDHGDSDFGLQCSARP...</td>\n",
       "      <td>MKNK2</td>\n",
       "    </tr>\n",
       "    <tr>\n",
       "      <th>712</th>\n",
       "      <td>13344</td>\n",
       "      <td>Phosphatidylinositol 4-kinase alpha</td>\n",
       "      <td>Tchem</td>\n",
       "      <td>Kinase</td>\n",
       "      <td>Kinase</td>\n",
       "      <td>PI4KA_HUMAN</td>\n",
       "      <td>Phosphatidylinositol 4-kinase alpha</td>\n",
       "      <td>P42356</td>\n",
       "      <td>MAAAPARGGGGGGGGGGGCSGSGSSASRGFYFNTVLSLARSLAVQR...</td>\n",
       "      <td>PI4KA</td>\n",
       "    </tr>\n",
       "  </tbody>\n",
       "</table>\n",
       "</div>"
      ],
      "text/plain": [
       "        id                                               name    tdl     fam  \\\n",
       "179   2529               Dual specificity protein kinase CLK4  Tchem  Kinase   \n",
       "266   4889  Dual specificity tyrosine-phosphorylation-regu...  Tchem  Kinase   \n",
       "494   9233                        Protein kinase C theta type  Tchem  Kinase   \n",
       "523   9687  Mitogen-activated protein kinase kinase kinase 14  Tchem  Kinase   \n",
       "562  10403  MAP kinase-interacting serine/threonine-protei...  Tchem  Kinase   \n",
       "712  13344                Phosphatidylinositol 4-kinase alpha  Tchem  Kinase   \n",
       "\n",
       "     famext uniprot_name                                        description  \\\n",
       "179  Kinase   CLK4_HUMAN               Dual specificity protein kinase CLK4   \n",
       "266  Kinase  DYR1B_HUMAN  Dual specificity tyrosine-phosphorylation-regu...   \n",
       "494  Kinase   KPCT_HUMAN                        Protein kinase C theta type   \n",
       "523  Kinase  M3K14_HUMAN  Mitogen-activated protein kinase kinase kinase 14   \n",
       "562  Kinase  MKNK2_HUMAN  MAP kinase-interacting serine/threonine-protei...   \n",
       "712  Kinase  PI4KA_HUMAN                Phosphatidylinositol 4-kinase alpha   \n",
       "\n",
       "    uniprot                                                seq      sym  \n",
       "179  Q9HAZ1  MRHSKRTHCPDWDSRESWGHESYRGSHKRKRRSHSSTQENRHCKPH...     CLK4  \n",
       "266  Q9Y463  MAVPPGHGPFSGFPGPQEHTQVLPDVRLLPRRLPLAFRDATSAPLR...   DYRK1B  \n",
       "494  Q04759  MSPFLRIGLSNFDCGSCQSCQGEAVNPYCAVLVKEYVESENGQMYI...    PRKCQ  \n",
       "523  Q99558  MAVMEMACPGAPGSAVGQQKELPKAKEKTPPLGKKQSSVYKLEAVE...  MAP3K14  \n",
       "562  Q9HBH9  MVQKKPAELQGFHRSFKGQNPFELAFSLDQPDHGDSDFGLQCSARP...    MKNK2  \n",
       "712  P42356  MAAAPARGGGGGGGGGGGCSGSGSSASRGFYFNTVLSLARSLAVQR...    PI4KA  "
      ]
     },
     "execution_count": 49,
     "metadata": {},
     "output_type": "execute_result"
    }
   ],
   "source": [
    "kinase_models"
   ]
  },
  {
   "cell_type": "code",
   "execution_count": 55,
   "metadata": {},
   "outputs": [],
   "source": [
    "results = json.load(open('prediction/selleck_chem/py27_results.json', 'r'))\n",
    "results.update(json.load(open('prediction/selleck_chem/py35_results.json', 'r')))"
   ]
  },
  {
   "cell_type": "code",
   "execution_count": 58,
   "metadata": {},
   "outputs": [],
   "source": [
    "model_to_uniprot = json.load(open(\"model_to_uniprot.json\", 'r'))"
   ]
  },
  {
   "cell_type": "code",
   "execution_count": 84,
   "metadata": {},
   "outputs": [],
   "source": [
    "uniprot_results = {model_to_uniprot[m]: v for (m, v) in results.items()}\n",
    "kinase_results = {k:v for (k,v) in uniprot_results.items() if k in kinase_models.uniprot.values}\n",
    "ion_channel_results = {k:v for (k,v) in uniprot_results.items() if k in ion_channel_models.uniprot.values}\n",
    "gpcr_results = {k:v for (k,v) in uniprot_results.items() if k in gpcr_models.uniprot.values}"
   ]
  },
  {
   "cell_type": "code",
   "execution_count": 87,
   "metadata": {},
   "outputs": [],
   "source": [
    "with open('idg_gpcr_compounds.txt', 'w') as f:\n",
    "    for k, v in gpcr_results.items():\n",
    "        f.write(\"PROTEIN: {}\\nACTIVE COMPOUNDS: {}\\n\\n\".format(k, v))"
   ]
  }
 ],
 "metadata": {
  "kernelspec": {
   "display_name": "Python 3",
   "language": "python",
   "name": "python3"
  },
  "language_info": {
   "codemirror_mode": {
    "name": "ipython",
    "version": 3
   },
   "file_extension": ".py",
   "mimetype": "text/x-python",
   "name": "python",
   "nbconvert_exporter": "python",
   "pygments_lexer": "ipython3",
   "version": "3.6.7"
  }
 },
 "nbformat": 4,
 "nbformat_minor": 2
}
