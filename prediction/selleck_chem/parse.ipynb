{
 "cells": [
  {
   "cell_type": "code",
   "execution_count": 1,
   "metadata": {},
   "outputs": [],
   "source": [
    "import json\n",
    "import os\n",
    "import pandas as pd"
   ]
  },
  {
   "cell_type": "code",
   "execution_count": 2,
   "metadata": {},
   "outputs": [],
   "source": [
    "results = json.load(open(\"results.json\", 'r'))"
   ]
  },
  {
   "cell_type": "code",
   "execution_count": 3,
   "metadata": {},
   "outputs": [],
   "source": [
    "plist = json.load(open(\"plist.json\", \"r\"))"
   ]
  },
  {
   "cell_type": "code",
   "execution_count": 4,
   "metadata": {},
   "outputs": [],
   "source": [
    "proteins = [os.path.splitext(i)[0] for i in list(plist.values())[0]]"
   ]
  },
  {
   "cell_type": "code",
   "execution_count": 10,
   "metadata": {},
   "outputs": [
    {
     "name": "stdout",
     "output_type": "stream",
     "text": [
      "{'O00141': 0.77, 'O14684': 1.0, 'O14746': 0.58, 'O15054': 0.71, 'O15151': 0.65, 'O43318': 1.0, 'O60725': 0.52, 'O75116': 1.0, 'O75460': 0.91, 'O95136': 0.93, 'O95977': 0.81, 'O96017': 0.78, 'P00734': 0.87, 'P02766': 0.82, 'P04150': 0.98, 'P05186': 0.92, 'P05771': 0.67, 'P05981': 0.99, 'P06213': 0.95, 'P08684': 0.6, 'P07339': 0.84, 'P07947': 1.0, 'P07948': 1.0, 'P08238': 1.0, 'P08631': 0.94, 'P09238': 1.0, 'P10145': 0.51, 'P10827': 1.0, 'P16109': 1.0, 'P12931': 1.0, 'P14555': 1.0, 'P14625': 0.98, 'P15090': 0.7, 'P16581': 1.0, 'P17706': 0.9, 'P17936': 0.7, 'P18031': 1.0, 'P18054': 0.96, 'P20292': 0.55, 'P22894': 1.0, 'P23467': 0.67, 'P23786': 0.5, 'P24530': 0.68, 'P25025': 0.62, 'P25101': 0.68, 'P27361': 1.0, 'P27694': 0.84, 'P30872': 0.52, 'P31391': 0.96, 'P32238': 0.98, 'P32745': 0.91, 'P51452': 0.7, 'P35408': 0.94, 'P54760': 1.0, 'P55212': 1.0, 'P39086': 1.0, 'P39748': 1.0, 'P39900': 1.0, 'P42336': 1.0, 'P42574': 0.52, 'P43116': 0.59, 'P49146': 0.94, 'P49759': 0.76, 'P50052': 0.8, 'P50579': 0.84, 'Q04206': 0.7, 'P51685': 0.89, 'P53350': 0.66, 'P53779': 0.57, 'P53985': 0.91, 'Q10469': 0.68, 'P55072': 0.97, 'P55789': 1.0, 'P68400': 1.0, 'Q00535': 0.69, 'Q02750': 0.98, 'Q04828': 0.73, 'Q05586': 1.0, 'Q05823': 0.66, 'Q06124': 1.0, 'Q06187': 0.96, 'Q07817': 0.67, 'Q07820': 0.97, 'Q07869': 0.98, 'Q08345': 0.94, 'Q09428': 0.76, 'Q13258': 0.87, 'Q13822': 0.59, 'Q14289': 0.53, 'Q14654': 0.98, 'Q14790': 1.0, 'Q15046': 0.97, 'Q15139': 0.85, 'Q15722': 0.94, 'Q15759': 0.72, 'Q16288': 0.97, 'Q92523': 0.78, 'Q92934': 0.52, 'Q495T6': 0.77, 'Q59H18': 0.69, 'Q5TC84': 0.76, 'Q6P988': 0.56, 'Q8NET8': 0.66, 'Q8TDS4': 0.94, 'Q9HAZ1': 0.82, 'Q92633': 0.68, 'Q92793': 0.97, 'Q9HC97': 1.0, 'Q96GD4': 0.81, 'Q99500': 1.0, 'Q9NZJ5': 0.85, 'Q9UBY5': 0.96, 'Q9UGL1': 0.92, 'Q9UGN5': 1.0, 'Q9UIQ6': 0.98, 'Q9UNQ0': 0.85, 'Q9Y3Q4': 0.7, 'Q9H3R0': 0.58, 'Q9NYY3': 0.89, 'Q99873': 0.59, 'Q9H237': 0.91, 'Q9HBW0': 0.89, 'Q9NPH5': 1.0, 'Q9NS75': 0.71}\n"
     ]
    }
   ],
   "source": [
    "print(results['anazolene'])"
   ]
  },
  {
   "cell_type": "code",
   "execution_count": 5,
   "metadata": {},
   "outputs": [],
   "source": [
    "output = {}\n",
    "for k, v in results.items():\n",
    "    for p in proteins:\n",
    "        if p in v.keys():\n",
    "            if p in output.keys():\n",
    "                output[p][k] = v[p]\n",
    "            else:\n",
    "                output[p] = {k: v[p]}\n",
    "                "
   ]
  },
  {
   "cell_type": "code",
   "execution_count": 11,
   "metadata": {},
   "outputs": [],
   "source": [
    "with open('results_plist.json', 'w') as f:\n",
    "    json.dump(output, f)"
   ]
  },
  {
   "cell_type": "code",
   "execution_count": 14,
   "metadata": {},
   "outputs": [],
   "source": [
    "pd.DataFrame.from_dict(output).to_csv(\"results_plist.csv\")"
   ]
  },
  {
   "cell_type": "code",
   "execution_count": 21,
   "metadata": {},
   "outputs": [],
   "source": [
    "with open(\"results_plist.txt\", 'w') as f:\n",
    "    for k, v in output.items():\n",
    "        f.write(f\"{k}\\n\")\n",
    "        for p, q in v.items():\n",
    "            f.write(f\"\\t{p}: {q}\\n\")"
   ]
  },
  {
   "cell_type": "code",
   "execution_count": null,
   "metadata": {},
   "outputs": [],
   "source": []
  }
 ],
 "metadata": {
  "kernelspec": {
   "display_name": "Python 3",
   "language": "python",
   "name": "python3"
  },
  "language_info": {
   "codemirror_mode": {
    "name": "ipython",
    "version": 3
   },
   "file_extension": ".py",
   "mimetype": "text/x-python",
   "name": "python",
   "nbconvert_exporter": "python",
   "pygments_lexer": "ipython3",
   "version": "3.6.9"
  }
 },
 "nbformat": 4,
 "nbformat_minor": 4
}
