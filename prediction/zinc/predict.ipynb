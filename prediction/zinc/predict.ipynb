{
 "cells": [
  {
   "cell_type": "code",
   "execution_count": 55,
   "metadata": {},
   "outputs": [],
   "source": [
    "from __future__ import print_function\n",
    "import pandas as pd\n",
    "import numpy as np\n",
    "import multiprocessing as mp\n",
    "import os\n",
    "from sklearn.externals import joblib\n",
    "import sys\n",
    "sys.path.append(\"../../../ddt/\")\n",
    "from utility import FeatureGenerator\n",
    "from glob import glob\n",
    "from sklearn.externals import joblib\n",
    "import pickle\n",
    "import pandas as pd\n",
    "import numpy as np"
   ]
  },
  {
   "cell_type": "code",
   "execution_count": 12,
   "metadata": {},
   "outputs": [
    {
     "data": {
      "text/html": [
       "<div>\n",
       "<style scoped>\n",
       "    .dataframe tbody tr th:only-of-type {\n",
       "        vertical-align: middle;\n",
       "    }\n",
       "\n",
       "    .dataframe tbody tr th {\n",
       "        vertical-align: top;\n",
       "    }\n",
       "\n",
       "    .dataframe thead th {\n",
       "        text-align: right;\n",
       "    }\n",
       "</style>\n",
       "<table border=\"1\" class=\"dataframe\">\n",
       "  <thead>\n",
       "    <tr style=\"text-align: right;\">\n",
       "      <th></th>\n",
       "      <th>name</th>\n",
       "      <th>f1</th>\n",
       "      <th>roc_auc</th>\n",
       "      <th>model_type</th>\n",
       "      <th>fam</th>\n",
       "      <th>version</th>\n",
       "    </tr>\n",
       "  </thead>\n",
       "  <tbody>\n",
       "    <tr>\n",
       "      <th>0</th>\n",
       "      <td>15_hydroxyprostaglandin_dehydrogenase_nad_</td>\n",
       "      <td>1.0</td>\n",
       "      <td>1.0</td>\n",
       "      <td>RandomForestClassifier</td>\n",
       "      <td>Other</td>\n",
       "      <td>py27</td>\n",
       "    </tr>\n",
       "    <tr>\n",
       "      <th>1</th>\n",
       "      <td>1_25_dihydroxyvitamin_d_3_24_hydroxylase_mitoc...</td>\n",
       "      <td>1.0</td>\n",
       "      <td>1.0</td>\n",
       "      <td>XGBClassifier</td>\n",
       "      <td>Other</td>\n",
       "      <td>py27</td>\n",
       "    </tr>\n",
       "    <tr>\n",
       "      <th>2</th>\n",
       "      <td>1_acyl_sn_glycerol_3_phosphate_acyltransferase...</td>\n",
       "      <td>1.0</td>\n",
       "      <td>1.0</td>\n",
       "      <td>XGBClassifier</td>\n",
       "      <td>Enzyme</td>\n",
       "      <td>py27</td>\n",
       "    </tr>\n",
       "    <tr>\n",
       "      <th>3</th>\n",
       "      <td>2_5a_dependent_ribonuclease</td>\n",
       "      <td>1.0</td>\n",
       "      <td>1.0</td>\n",
       "      <td>XGBClassifier</td>\n",
       "      <td>Kinase</td>\n",
       "      <td>py35</td>\n",
       "    </tr>\n",
       "    <tr>\n",
       "      <th>4</th>\n",
       "      <td>2_acylglycerol_o_acyltransferase_2</td>\n",
       "      <td>1.0</td>\n",
       "      <td>1.0</td>\n",
       "      <td>SVC</td>\n",
       "      <td>Enzyme</td>\n",
       "      <td>py35</td>\n",
       "    </tr>\n",
       "  </tbody>\n",
       "</table>\n",
       "</div>"
      ],
      "text/plain": [
       "                                                name   f1  roc_auc  \\\n",
       "0         15_hydroxyprostaglandin_dehydrogenase_nad_  1.0      1.0   \n",
       "1  1_25_dihydroxyvitamin_d_3_24_hydroxylase_mitoc...  1.0      1.0   \n",
       "2  1_acyl_sn_glycerol_3_phosphate_acyltransferase...  1.0      1.0   \n",
       "3                        2_5a_dependent_ribonuclease  1.0      1.0   \n",
       "4                 2_acylglycerol_o_acyltransferase_2  1.0      1.0   \n",
       "\n",
       "               model_type     fam version  \n",
       "0  RandomForestClassifier   Other    py27  \n",
       "1           XGBClassifier   Other    py27  \n",
       "2           XGBClassifier  Enzyme    py27  \n",
       "3           XGBClassifier  Kinase    py35  \n",
       "4                     SVC  Enzyme    py35  "
      ]
     },
     "execution_count": 12,
     "metadata": {},
     "output_type": "execute_result"
    }
   ],
   "source": [
    "models_info = pd.read_csv(\"../../all_models_info.csv\")\n",
    "models_info.head()"
   ]
  },
  {
   "cell_type": "code",
   "execution_count": 48,
   "metadata": {},
   "outputs": [
    {
     "name": "stdout",
     "output_type": "stream",
     "text": [
      "SDF FILE COUNT: 19185\n"
     ]
    }
   ],
   "source": [
    "py_version = \"27\" if sys.version_info[0] < 3 else \"35\"\n",
    "zinc_dir = os.path.abspath(\"../../../ZINC_sdf\")\n",
    "sdf_files = glob(os.path.join(zinc_dir, \"*/*/*.sdf\"))\n",
    "print(\"SDF FILE COUNT: {}\".format(len(sdf_files)))\n",
    "models_dir = os.path.abspath(\"../../models\")"
   ]
  },
  {
   "cell_type": "code",
   "execution_count": 57,
   "metadata": {},
   "outputs": [],
   "source": [
    "def get_models():\n",
    "    for model_name, model_type in models_info[models_info['version'] == 'py35'][['name', 'model_type']].values:\n",
    "        model_file = os.path.join(models_dir, model_name)\n",
    "        if model_type == \"RandomForestClassifier\": model = joblib.load(model_file + '.rfc')\n",
    "        elif model_type == \"SVC\": model = joblib.load(model_file + '.svc')\n",
    "        elif model_type == \"MLPClassifier\": model = joblib.load(model_file + '.mlp')  \n",
    "        elif model_type == 'XGBClassifier': model = pickle.load(open(model_file + '.xgb', 'rb'))\n",
    "        yield model_name, model_type, model"
   ]
  },
  {
   "cell_type": "code",
   "execution_count": 45,
   "metadata": {},
   "outputs": [],
   "source": [
    "results = {}"
   ]
  },
  {
   "cell_type": "code",
   "execution_count": null,
   "metadata": {},
   "outputs": [],
   "source": [
    "def get_zinc_id(_file):\n",
    "    zinc_ids = []\n",
    "    content = None\n",
    "    with open(_file, 'r') as f:\n",
    "        content = f.readlines()\n",
    "    if content is None: return None\n",
    "    content = content.split(\"/n\")\n",
    "    zinc_ids.append(content[0]) "
   ]
  },
  {
   "cell_type": "code",
   "execution_count": null,
   "metadata": {},
   "outputs": [
    {
     "name": "stderr",
     "output_type": "stream",
     "text": [
      "/home/mhassan/.conda/envs/ml/lib/python3.5/site-packages/sklearn/base.py:251: UserWarning: Trying to unpickle estimator LabelEncoder from version 0.20.2 when using version 0.20.0. This might lead to breaking code or invalid results. Use at your own risk.\n",
      "  UserWarning)\n"
     ]
    }
   ],
   "source": [
    "ft = FeatureGenerator()\n",
    "for _name, _type, _model in get_models():\n",
    "    for sdf in sdf_files:\n",
    "        _, sdf_filename = os.path.split(sdf)\n",
    "        ft.load_sdf(sdf)\n",
    "        features = ft.extract_tpatf()\n",
    "        features = np.array(features).reshape((-1, 2692))\n",
    "        print(features.shape)\n",
    "        results[_name] = {}\n",
    "        results['name']['type'] = _type\n",
    "        #results['name'][sdf_filename] = \n",
    "        break\n",
    "    break"
   ]
  }
 ],
 "metadata": {
  "kernelspec": {
   "display_name": "Python 3",
   "language": "python",
   "name": "python3"
  },
  "language_info": {
   "codemirror_mode": {
    "name": "ipython",
    "version": 3
   },
   "file_extension": ".py",
   "mimetype": "text/x-python",
   "name": "python",
   "nbconvert_exporter": "python",
   "pygments_lexer": "ipython3",
   "version": "3.7.5"
  }
 },
 "nbformat": 4,
 "nbformat_minor": 4
}
