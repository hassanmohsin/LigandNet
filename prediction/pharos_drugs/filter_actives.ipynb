{
 "cells": [
  {
   "cell_type": "code",
   "execution_count": 124,
   "metadata": {},
   "outputs": [],
   "source": [
    "import pandas as pd"
   ]
  },
  {
   "cell_type": "code",
   "execution_count": 133,
   "metadata": {},
   "outputs": [],
   "source": [
    "import matplotlib.pyplot as plt\n",
    "import seaborn as sns\n",
    "%matplotlib inline"
   ]
  },
  {
   "cell_type": "code",
   "execution_count": 125,
   "metadata": {},
   "outputs": [
    {
     "data": {
      "text/html": [
       "<div>\n",
       "<style scoped>\n",
       "    .dataframe tbody tr th:only-of-type {\n",
       "        vertical-align: middle;\n",
       "    }\n",
       "\n",
       "    .dataframe tbody tr th {\n",
       "        vertical-align: top;\n",
       "    }\n",
       "\n",
       "    .dataframe thead th {\n",
       "        text-align: right;\n",
       "    }\n",
       "</style>\n",
       "<table border=\"1\" class=\"dataframe\">\n",
       "  <thead>\n",
       "    <tr style=\"text-align: right;\">\n",
       "      <th></th>\n",
       "      <th>target_id</th>\n",
       "      <th>actives</th>\n",
       "      <th>true_actives</th>\n",
       "      <th>target_name</th>\n",
       "      <th>drug_name</th>\n",
       "    </tr>\n",
       "  </thead>\n",
       "  <tbody>\n",
       "    <tr>\n",
       "      <th>0</th>\n",
       "      <td>11838</td>\n",
       "      <td>'Q8WUI4','P15121', 'P42330', 'Q9BYF1', 'P12821...</td>\n",
       "      <td>Q12908</td>\n",
       "      <td>Ileal sodium/bile acid cotransporter</td>\n",
       "      <td>elobixibat</td>\n",
       "    </tr>\n",
       "    <tr>\n",
       "      <th>1</th>\n",
       "      <td>3299</td>\n",
       "      <td>'P35916','P08235', 'P53779', 'O15055'</td>\n",
       "      <td>P13569</td>\n",
       "      <td>Cystic fibrosis transmembrane conductance regu...</td>\n",
       "      <td>tezacaftor</td>\n",
       "    </tr>\n",
       "    <tr>\n",
       "      <th>2</th>\n",
       "      <td>6977</td>\n",
       "      <td>'Q92847', 'Q6B0I6', 'Q96FL8', 'Q13526', 'Q6DWJ...</td>\n",
       "      <td>Q92847</td>\n",
       "      <td>Growth hormone secretagogue receptor type 1</td>\n",
       "      <td>macimorelin</td>\n",
       "    </tr>\n",
       "    <tr>\n",
       "      <th>3</th>\n",
       "      <td>13260</td>\n",
       "      <td>'P42336', 'P42338'</td>\n",
       "      <td>P42336</td>\n",
       "      <td>Phosphatidylinositol 4,5-bisphosphate 3-kinase...</td>\n",
       "      <td>copanlisib</td>\n",
       "    </tr>\n",
       "    <tr>\n",
       "      <th>5</th>\n",
       "      <td>3144</td>\n",
       "      <td>'P42336', 'Q96GD4', 'P33981', 'Q14164', 'O4331...</td>\n",
       "      <td>P11802</td>\n",
       "      <td>Cyclin-dependent kinase 4</td>\n",
       "      <td>abemaciclib</td>\n",
       "    </tr>\n",
       "  </tbody>\n",
       "</table>\n",
       "</div>"
      ],
      "text/plain": [
       "   target_id                                            actives true_actives  \\\n",
       "0      11838  'Q8WUI4','P15121', 'P42330', 'Q9BYF1', 'P12821...       Q12908   \n",
       "1       3299              'P35916','P08235', 'P53779', 'O15055'       P13569   \n",
       "2       6977  'Q92847', 'Q6B0I6', 'Q96FL8', 'Q13526', 'Q6DWJ...       Q92847   \n",
       "3      13260                                 'P42336', 'P42338'       P42336   \n",
       "5       3144  'P42336', 'Q96GD4', 'P33981', 'Q14164', 'O4331...       P11802   \n",
       "\n",
       "                                         target_name    drug_name  \n",
       "0               Ileal sodium/bile acid cotransporter   elobixibat  \n",
       "1  Cystic fibrosis transmembrane conductance regu...   tezacaftor  \n",
       "2        Growth hormone secretagogue receptor type 1  macimorelin  \n",
       "3  Phosphatidylinositol 4,5-bisphosphate 3-kinase...   copanlisib  \n",
       "5                          Cyclin-dependent kinase 4  abemaciclib  "
      ]
     },
     "execution_count": 125,
     "metadata": {},
     "output_type": "execute_result"
    }
   ],
   "source": [
    "df = pd.read_csv(\"final_results_v2.csv\", usecols=[0, 2, 3, 4, 5])\n",
    "df.drop_duplicates(subset=['actives', 'drug_name'], inplace=True)\n",
    "df.head()"
   ]
  },
  {
   "cell_type": "code",
   "execution_count": 126,
   "metadata": {},
   "outputs": [
    {
     "data": {
      "text/plain": [
       "2452"
      ]
     },
     "execution_count": 126,
     "metadata": {},
     "output_type": "execute_result"
    }
   ],
   "source": [
    "df.dropna(subset=['actives', 'drug_name'], inplace=True)\n",
    "len(df)"
   ]
  },
  {
   "cell_type": "markdown",
   "metadata": {},
   "source": [
    "Map actives to drugs"
   ]
  },
  {
   "cell_type": "code",
   "execution_count": 127,
   "metadata": {},
   "outputs": [],
   "source": [
    "actives_to_drug = []\n",
    "for li, drug in zip(df.actives.apply(lambda x: x.split(',')), df.drug_name):\n",
    "    for act in li:\n",
    "        actives_to_drug.append([act, drug])"
   ]
  },
  {
   "cell_type": "code",
   "execution_count": 128,
   "metadata": {},
   "outputs": [
    {
     "data": {
      "text/plain": [
       "40264"
      ]
     },
     "execution_count": 128,
     "metadata": {},
     "output_type": "execute_result"
    }
   ],
   "source": [
    "final_df = pd.DataFrame.from_records(actives_to_drug, columns=['actives', 'drugs'])\n",
    "final_df.dropna(inplace=True)\n",
    "len(final_df)"
   ]
  },
  {
   "cell_type": "markdown",
   "metadata": {},
   "source": [
    "We don't want actives that appear more than 4 times"
   ]
  },
  {
   "cell_type": "code",
   "execution_count": 129,
   "metadata": {},
   "outputs": [
    {
     "data": {
      "text/html": [
       "<div>\n",
       "<style scoped>\n",
       "    .dataframe tbody tr th:only-of-type {\n",
       "        vertical-align: middle;\n",
       "    }\n",
       "\n",
       "    .dataframe tbody tr th {\n",
       "        vertical-align: top;\n",
       "    }\n",
       "\n",
       "    .dataframe thead th {\n",
       "        text-align: right;\n",
       "    }\n",
       "</style>\n",
       "<table border=\"1\" class=\"dataframe\">\n",
       "  <thead>\n",
       "    <tr style=\"text-align: right;\">\n",
       "      <th></th>\n",
       "      <th>drugs</th>\n",
       "    </tr>\n",
       "    <tr>\n",
       "      <th>actives</th>\n",
       "      <th></th>\n",
       "    </tr>\n",
       "  </thead>\n",
       "  <tbody>\n",
       "    <tr>\n",
       "      <th>'B2RXH2'</th>\n",
       "      <td>False</td>\n",
       "    </tr>\n",
       "    <tr>\n",
       "      <th>'O00141'</th>\n",
       "      <td>False</td>\n",
       "    </tr>\n",
       "    <tr>\n",
       "      <th>'O00255'</th>\n",
       "      <td>True</td>\n",
       "    </tr>\n",
       "    <tr>\n",
       "      <th>'O00311'</th>\n",
       "      <td>True</td>\n",
       "    </tr>\n",
       "    <tr>\n",
       "      <th>'O00329'</th>\n",
       "      <td>False</td>\n",
       "    </tr>\n",
       "  </tbody>\n",
       "</table>\n",
       "</div>"
      ],
      "text/plain": [
       "           drugs\n",
       "actives         \n",
       " 'B2RXH2'  False\n",
       " 'O00141'  False\n",
       " 'O00255'   True\n",
       " 'O00311'   True\n",
       " 'O00329'  False"
      ]
     },
     "execution_count": 129,
     "metadata": {},
     "output_type": "execute_result"
    }
   ],
   "source": [
    "counts = final_df.groupby('actives').count() < 5\n",
    "counts.head()"
   ]
  },
  {
   "cell_type": "code",
   "execution_count": 130,
   "metadata": {},
   "outputs": [],
   "source": [
    "final_df = final_df.loc[counts.values.flatten()]"
   ]
  },
  {
   "cell_type": "code",
   "execution_count": 143,
   "metadata": {},
   "outputs": [],
   "source": [
    "# Get rid of the \"'\" from actives \n",
    "final_df['actives'] = final_df.actives.apply(lambda x: x.split(\"'\")[1])"
   ]
  },
  {
   "cell_type": "code",
   "execution_count": 144,
   "metadata": {},
   "outputs": [
    {
     "data": {
      "text/html": [
       "<div>\n",
       "<style scoped>\n",
       "    .dataframe tbody tr th:only-of-type {\n",
       "        vertical-align: middle;\n",
       "    }\n",
       "\n",
       "    .dataframe tbody tr th {\n",
       "        vertical-align: top;\n",
       "    }\n",
       "\n",
       "    .dataframe thead th {\n",
       "        text-align: right;\n",
       "    }\n",
       "</style>\n",
       "<table border=\"1\" class=\"dataframe\">\n",
       "  <thead>\n",
       "    <tr style=\"text-align: right;\">\n",
       "      <th></th>\n",
       "      <th>actives</th>\n",
       "      <th>drugs</th>\n",
       "    </tr>\n",
       "  </thead>\n",
       "  <tbody>\n",
       "    <tr>\n",
       "      <th>2</th>\n",
       "      <td>P42330</td>\n",
       "      <td>elobixibat</td>\n",
       "    </tr>\n",
       "    <tr>\n",
       "      <th>3</th>\n",
       "      <td>Q9BYF1</td>\n",
       "      <td>elobixibat</td>\n",
       "    </tr>\n",
       "    <tr>\n",
       "      <th>8</th>\n",
       "      <td>O60911</td>\n",
       "      <td>elobixibat</td>\n",
       "    </tr>\n",
       "    <tr>\n",
       "      <th>11</th>\n",
       "      <td>P06730</td>\n",
       "      <td>elobixibat</td>\n",
       "    </tr>\n",
       "    <tr>\n",
       "      <th>25</th>\n",
       "      <td>P37231</td>\n",
       "      <td>elobixibat</td>\n",
       "    </tr>\n",
       "  </tbody>\n",
       "</table>\n",
       "</div>"
      ],
      "text/plain": [
       "   actives       drugs\n",
       "2   P42330  elobixibat\n",
       "3   Q9BYF1  elobixibat\n",
       "8   O60911  elobixibat\n",
       "11  P06730  elobixibat\n",
       "25  P37231  elobixibat"
      ]
     },
     "execution_count": 144,
     "metadata": {},
     "output_type": "execute_result"
    }
   ],
   "source": [
    "final_df.head()"
   ]
  },
  {
   "cell_type": "code",
   "execution_count": 145,
   "metadata": {},
   "outputs": [],
   "source": [
    "final_df.to_csv(\"actives_to_drug.csv\", index=False)"
   ]
  }
 ],
 "metadata": {
  "kernelspec": {
   "display_name": "Python 3",
   "language": "python",
   "name": "python3"
  },
  "language_info": {
   "codemirror_mode": {
    "name": "ipython",
    "version": 3
   },
   "file_extension": ".py",
   "mimetype": "text/x-python",
   "name": "python",
   "nbconvert_exporter": "python",
   "pygments_lexer": "ipython3",
   "version": "3.6.9"
  }
 },
 "nbformat": 4,
 "nbformat_minor": 4
}
