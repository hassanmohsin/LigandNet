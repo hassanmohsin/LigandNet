{
 "cells": [
  {
   "cell_type": "code",
   "execution_count": 18,
   "metadata": {},
   "outputs": [],
   "source": [
    "import pandas as pd\n",
    "import numpy as np"
   ]
  },
  {
   "cell_type": "code",
   "execution_count": 30,
   "metadata": {},
   "outputs": [
    {
     "data": {
      "text/plain": [
       "(3669, 2692)"
      ]
     },
     "execution_count": 30,
     "metadata": {},
     "output_type": "execute_result"
    }
   ],
   "source": [
    "features = np.load('features.npy')\n",
    "features.shape"
   ]
  },
  {
   "cell_type": "code",
   "execution_count": 181,
   "metadata": {},
   "outputs": [],
   "source": [
    "df1 = pd.read_csv(\"pharos_drugs_actives_27.csv\", usecols=[1, 2, 3])\n",
    "df1.dropna(inplace=True)\n",
    "df2 = pd.read_csv('pharos_drugs.csv')\n",
    "\n",
    "df3 = pd.read_csv(\"pharos_drugs_actives_35.csv\", usecols=[0, 1, 3])\n",
    "df3.dropna(inplace=True)\n",
    "df4 = pd.read_csv('backup/pharos_drugs_features.csv')\n",
    "\n"
   ]
  },
  {
   "cell_type": "code",
   "execution_count": 251,
   "metadata": {},
   "outputs": [],
   "source": [
    "df5 = pd.read_csv(\"pharos_drug_activity.csv\", usecols=[0, 1, 2, 6])"
   ]
  },
  {
   "cell_type": "code",
   "execution_count": 252,
   "metadata": {},
   "outputs": [
    {
     "data": {
      "text/plain": [
       "(3664, 3674, 3664, 3669, 3867)"
      ]
     },
     "execution_count": 252,
     "metadata": {},
     "output_type": "execute_result"
    }
   ],
   "source": [
    "len(df1), len(df2), len(df3), len(df4), len(df5)"
   ]
  },
  {
   "cell_type": "code",
   "execution_count": 253,
   "metadata": {},
   "outputs": [
    {
     "data": {
      "text/html": [
       "<div>\n",
       "<style scoped>\n",
       "    .dataframe tbody tr th:only-of-type {\n",
       "        vertical-align: middle;\n",
       "    }\n",
       "\n",
       "    .dataframe tbody tr th {\n",
       "        vertical-align: top;\n",
       "    }\n",
       "\n",
       "    .dataframe thead th {\n",
       "        text-align: right;\n",
       "    }\n",
       "</style>\n",
       "<table border=\"1\" class=\"dataframe\">\n",
       "  <thead>\n",
       "    <tr style=\"text-align: right;\">\n",
       "      <th></th>\n",
       "      <th>id</th>\n",
       "      <th>target_id</th>\n",
       "      <th>drug</th>\n",
       "      <th>smiles</th>\n",
       "    </tr>\n",
       "  </thead>\n",
       "  <tbody>\n",
       "    <tr>\n",
       "      <th>0</th>\n",
       "      <td>1</td>\n",
       "      <td>11838</td>\n",
       "      <td>elobixibat</td>\n",
       "      <td>CCCCC1(CCCC)CN(C2=CC=CC=C2)C2=C(C=C(OCC(=O)N[C...</td>\n",
       "    </tr>\n",
       "    <tr>\n",
       "      <th>1</th>\n",
       "      <td>2</td>\n",
       "      <td>3299</td>\n",
       "      <td>tezacaftor</td>\n",
       "      <td>CC(C)(CO)C1=CC2=C(C=C(F)C(NC(=O)C3(CC3)C3=CC=C...</td>\n",
       "    </tr>\n",
       "    <tr>\n",
       "      <th>2</th>\n",
       "      <td>3</td>\n",
       "      <td>6977</td>\n",
       "      <td>macimorelin</td>\n",
       "      <td>[H]C(=O)N[C@@H](CC1=CNC2=C1C=CC=C2)NC(=O)[C@@H...</td>\n",
       "    </tr>\n",
       "    <tr>\n",
       "      <th>3</th>\n",
       "      <td>4</td>\n",
       "      <td>13260</td>\n",
       "      <td>copanlisib</td>\n",
       "      <td>COC1=C(OCCCN2CCOCC2)C=CC2=C1N=C(NC(=O)C1=CN=C(...</td>\n",
       "    </tr>\n",
       "    <tr>\n",
       "      <th>4</th>\n",
       "      <td>5</td>\n",
       "      <td>13069</td>\n",
       "      <td>copanlisib</td>\n",
       "      <td>COC1=C(OCCCN2CCOCC2)C=CC2=C1N=C(NC(=O)C1=CN=C(...</td>\n",
       "    </tr>\n",
       "  </tbody>\n",
       "</table>\n",
       "</div>"
      ],
      "text/plain": [
       "   id  target_id         drug  \\\n",
       "0   1      11838   elobixibat   \n",
       "1   2       3299   tezacaftor   \n",
       "2   3       6977  macimorelin   \n",
       "3   4      13260   copanlisib   \n",
       "4   5      13069   copanlisib   \n",
       "\n",
       "                                              smiles  \n",
       "0  CCCCC1(CCCC)CN(C2=CC=CC=C2)C2=C(C=C(OCC(=O)N[C...  \n",
       "1  CC(C)(CO)C1=CC2=C(C=C(F)C(NC(=O)C3(CC3)C3=CC=C...  \n",
       "2  [H]C(=O)N[C@@H](CC1=CNC2=C1C=CC=C2)NC(=O)[C@@H...  \n",
       "3  COC1=C(OCCCN2CCOCC2)C=CC2=C1N=C(NC(=O)C1=CN=C(...  \n",
       "4  COC1=C(OCCCN2CCOCC2)C=CC2=C1N=C(NC(=O)C1=CN=C(...  "
      ]
     },
     "execution_count": 253,
     "metadata": {},
     "output_type": "execute_result"
    }
   ],
   "source": [
    "df5.head()"
   ]
  },
  {
   "cell_type": "code",
   "execution_count": 254,
   "metadata": {},
   "outputs": [],
   "source": [
    "smiles_to_drug_names = dict(zip(df5.smiles, df5.drug))"
   ]
  },
  {
   "cell_type": "code",
   "execution_count": 184,
   "metadata": {},
   "outputs": [
    {
     "data": {
      "text/html": [
       "<div>\n",
       "<style scoped>\n",
       "    .dataframe tbody tr th:only-of-type {\n",
       "        vertical-align: middle;\n",
       "    }\n",
       "\n",
       "    .dataframe tbody tr th {\n",
       "        vertical-align: top;\n",
       "    }\n",
       "\n",
       "    .dataframe thead th {\n",
       "        text-align: right;\n",
       "    }\n",
       "</style>\n",
       "<table border=\"1\" class=\"dataframe\">\n",
       "  <thead>\n",
       "    <tr style=\"text-align: right;\">\n",
       "      <th></th>\n",
       "      <th>target_id</th>\n",
       "      <th>smiles</th>\n",
       "      <th>actives</th>\n",
       "    </tr>\n",
       "  </thead>\n",
       "  <tbody>\n",
       "    <tr>\n",
       "      <th>0</th>\n",
       "      <td>11838</td>\n",
       "      <td>CCCCC1(CCCC)CN(C2=CC=CC=C2)C2=C(C=C(OCC(=O)N[C...</td>\n",
       "      <td>['P15121', 'P42330', 'Q9BYF1', 'P12821', 'P180...</td>\n",
       "    </tr>\n",
       "    <tr>\n",
       "      <th>1</th>\n",
       "      <td>3299</td>\n",
       "      <td>CC(C)(CO)C1=CC2=C(C=C(F)C(NC(=O)C3(CC3)C3=CC=C...</td>\n",
       "      <td>['P08235', 'P53779', 'O15055']</td>\n",
       "    </tr>\n",
       "    <tr>\n",
       "      <th>2</th>\n",
       "      <td>6977</td>\n",
       "      <td>[H]C(=O)N[C@@H](CC1=CNC2=C1C=CC=C2)NC(=O)[C@@H...</td>\n",
       "      <td>['Q92847', 'Q6B0I6', 'Q96FL8', 'Q13526', 'Q6DW...</td>\n",
       "    </tr>\n",
       "    <tr>\n",
       "      <th>3</th>\n",
       "      <td>13260</td>\n",
       "      <td>COC1=C(OCCCN2CCOCC2)C=CC2=C1N=C(NC(=O)C1=CN=C(...</td>\n",
       "      <td>[]</td>\n",
       "    </tr>\n",
       "    <tr>\n",
       "      <th>4</th>\n",
       "      <td>13069</td>\n",
       "      <td>COC1=C(OCCCN2CCOCC2)C=CC2=C1N=C(NC(=O)C1=CN=C(...</td>\n",
       "      <td>[]</td>\n",
       "    </tr>\n",
       "  </tbody>\n",
       "</table>\n",
       "</div>"
      ],
      "text/plain": [
       "   target_id                                             smiles  \\\n",
       "0      11838  CCCCC1(CCCC)CN(C2=CC=CC=C2)C2=C(C=C(OCC(=O)N[C...   \n",
       "1       3299  CC(C)(CO)C1=CC2=C(C=C(F)C(NC(=O)C3(CC3)C3=CC=C...   \n",
       "2       6977  [H]C(=O)N[C@@H](CC1=CNC2=C1C=CC=C2)NC(=O)[C@@H...   \n",
       "3      13260  COC1=C(OCCCN2CCOCC2)C=CC2=C1N=C(NC(=O)C1=CN=C(...   \n",
       "4      13069  COC1=C(OCCCN2CCOCC2)C=CC2=C1N=C(NC(=O)C1=CN=C(...   \n",
       "\n",
       "                                             actives  \n",
       "0  ['P15121', 'P42330', 'Q9BYF1', 'P12821', 'P180...  \n",
       "1                     ['P08235', 'P53779', 'O15055']  \n",
       "2  ['Q92847', 'Q6B0I6', 'Q96FL8', 'Q13526', 'Q6DW...  \n",
       "3                                                 []  \n",
       "4                                                 []  "
      ]
     },
     "execution_count": 184,
     "metadata": {},
     "output_type": "execute_result"
    }
   ],
   "source": [
    "df3.head()"
   ]
  },
  {
   "cell_type": "code",
   "execution_count": 186,
   "metadata": {},
   "outputs": [],
   "source": [
    "commmon_ids = df1.smiles.isin(df3.smiles)\n",
    "df1 = df1[commmon_ids]\n",
    "df3 = df3[commmon_ids]"
   ]
  },
  {
   "cell_type": "code",
   "execution_count": 195,
   "metadata": {},
   "outputs": [],
   "source": [
    "actives = df1.actives.apply(lambda x: x[1:-1].split(',') if x!='[]' else []) + df3.actives.apply(lambda x: x[1:-1].split(',') if x!='[]' else [])"
   ]
  },
  {
   "cell_type": "code",
   "execution_count": 199,
   "metadata": {},
   "outputs": [],
   "source": [
    "df1['actives'] = actives.apply(lambda x: ','.join(x))"
   ]
  },
  {
   "cell_type": "code",
   "execution_count": 200,
   "metadata": {},
   "outputs": [
    {
     "data": {
      "text/html": [
       "<div>\n",
       "<style scoped>\n",
       "    .dataframe tbody tr th:only-of-type {\n",
       "        vertical-align: middle;\n",
       "    }\n",
       "\n",
       "    .dataframe tbody tr th {\n",
       "        vertical-align: top;\n",
       "    }\n",
       "\n",
       "    .dataframe thead th {\n",
       "        text-align: right;\n",
       "    }\n",
       "</style>\n",
       "<table border=\"1\" class=\"dataframe\">\n",
       "  <thead>\n",
       "    <tr style=\"text-align: right;\">\n",
       "      <th></th>\n",
       "      <th>target_id</th>\n",
       "      <th>smiles</th>\n",
       "      <th>actives</th>\n",
       "    </tr>\n",
       "  </thead>\n",
       "  <tbody>\n",
       "    <tr>\n",
       "      <th>0</th>\n",
       "      <td>11838</td>\n",
       "      <td>CCCCC1(CCCC)CN(C2=CC=CC=C2)C2=C(C=C(OCC(=O)N[C...</td>\n",
       "      <td>'Q8WUI4','P15121', 'P42330', 'Q9BYF1', 'P12821...</td>\n",
       "    </tr>\n",
       "    <tr>\n",
       "      <th>1</th>\n",
       "      <td>3299</td>\n",
       "      <td>CC(C)(CO)C1=CC2=C(C=C(F)C(NC(=O)C3(CC3)C3=CC=C...</td>\n",
       "      <td>'P35916','P08235', 'P53779', 'O15055'</td>\n",
       "    </tr>\n",
       "    <tr>\n",
       "      <th>2</th>\n",
       "      <td>6977</td>\n",
       "      <td>[H]C(=O)N[C@@H](CC1=CNC2=C1C=CC=C2)NC(=O)[C@@H...</td>\n",
       "      <td>'Q92847', 'Q6B0I6', 'Q96FL8', 'Q13526', 'Q6DWJ...</td>\n",
       "    </tr>\n",
       "    <tr>\n",
       "      <th>3</th>\n",
       "      <td>13260</td>\n",
       "      <td>COC1=C(OCCCN2CCOCC2)C=CC2=C1N=C(NC(=O)C1=CN=C(...</td>\n",
       "      <td>'P42336', 'P42338'</td>\n",
       "    </tr>\n",
       "    <tr>\n",
       "      <th>4</th>\n",
       "      <td>13069</td>\n",
       "      <td>COC1=C(OCCCN2CCOCC2)C=CC2=C1N=C(NC(=O)C1=CN=C(...</td>\n",
       "      <td>'P42336', 'P42338'</td>\n",
       "    </tr>\n",
       "  </tbody>\n",
       "</table>\n",
       "</div>"
      ],
      "text/plain": [
       "   target_id                                             smiles  \\\n",
       "0      11838  CCCCC1(CCCC)CN(C2=CC=CC=C2)C2=C(C=C(OCC(=O)N[C...   \n",
       "1       3299  CC(C)(CO)C1=CC2=C(C=C(F)C(NC(=O)C3(CC3)C3=CC=C...   \n",
       "2       6977  [H]C(=O)N[C@@H](CC1=CNC2=C1C=CC=C2)NC(=O)[C@@H...   \n",
       "3      13260  COC1=C(OCCCN2CCOCC2)C=CC2=C1N=C(NC(=O)C1=CN=C(...   \n",
       "4      13069  COC1=C(OCCCN2CCOCC2)C=CC2=C1N=C(NC(=O)C1=CN=C(...   \n",
       "\n",
       "                                             actives  \n",
       "0  'Q8WUI4','P15121', 'P42330', 'Q9BYF1', 'P12821...  \n",
       "1              'P35916','P08235', 'P53779', 'O15055'  \n",
       "2  'Q92847', 'Q6B0I6', 'Q96FL8', 'Q13526', 'Q6DWJ...  \n",
       "3                                 'P42336', 'P42338'  \n",
       "4                                 'P42336', 'P42338'  "
      ]
     },
     "execution_count": 200,
     "metadata": {},
     "output_type": "execute_result"
    }
   ],
   "source": [
    "df1.head()"
   ]
  },
  {
   "cell_type": "code",
   "execution_count": 201,
   "metadata": {},
   "outputs": [
    {
     "data": {
      "text/html": [
       "<div>\n",
       "<style scoped>\n",
       "    .dataframe tbody tr th:only-of-type {\n",
       "        vertical-align: middle;\n",
       "    }\n",
       "\n",
       "    .dataframe tbody tr th {\n",
       "        vertical-align: top;\n",
       "    }\n",
       "\n",
       "    .dataframe thead th {\n",
       "        text-align: right;\n",
       "    }\n",
       "</style>\n",
       "<table border=\"1\" class=\"dataframe\">\n",
       "  <thead>\n",
       "    <tr style=\"text-align: right;\">\n",
       "      <th></th>\n",
       "      <th>id</th>\n",
       "      <th>name</th>\n",
       "      <th>tdl</th>\n",
       "      <th>fam</th>\n",
       "      <th>famext</th>\n",
       "    </tr>\n",
       "  </thead>\n",
       "  <tbody>\n",
       "    <tr>\n",
       "      <th>0</th>\n",
       "      <td>2</td>\n",
       "      <td>14-3-3 protein eta</td>\n",
       "      <td>Tchem</td>\n",
       "      <td>NaN</td>\n",
       "      <td>NaN</td>\n",
       "    </tr>\n",
       "    <tr>\n",
       "      <th>1</th>\n",
       "      <td>3</td>\n",
       "      <td>14-3-3 protein theta</td>\n",
       "      <td>Tchem</td>\n",
       "      <td>NaN</td>\n",
       "      <td>NaN</td>\n",
       "    </tr>\n",
       "    <tr>\n",
       "      <th>2</th>\n",
       "      <td>23</td>\n",
       "      <td>3 beta-hydroxysteroid dehydrogenase/Delta 5--&gt;...</td>\n",
       "      <td>Tchem</td>\n",
       "      <td>Enzyme</td>\n",
       "      <td>3-beta-HSD</td>\n",
       "    </tr>\n",
       "    <tr>\n",
       "      <th>3</th>\n",
       "      <td>26</td>\n",
       "      <td>5-hydroxytryptamine receptor 2B</td>\n",
       "      <td>Tclin</td>\n",
       "      <td>GPCR</td>\n",
       "      <td>GPCR</td>\n",
       "    </tr>\n",
       "    <tr>\n",
       "      <th>4</th>\n",
       "      <td>27</td>\n",
       "      <td>5-hydroxytryptamine receptor 2C</td>\n",
       "      <td>Tclin</td>\n",
       "      <td>GPCR</td>\n",
       "      <td>GPCR</td>\n",
       "    </tr>\n",
       "  </tbody>\n",
       "</table>\n",
       "</div>"
      ],
      "text/plain": [
       "   id                                               name    tdl     fam  \\\n",
       "0   2                                 14-3-3 protein eta  Tchem     NaN   \n",
       "1   3                               14-3-3 protein theta  Tchem     NaN   \n",
       "2  23  3 beta-hydroxysteroid dehydrogenase/Delta 5-->...  Tchem  Enzyme   \n",
       "3  26                    5-hydroxytryptamine receptor 2B  Tclin    GPCR   \n",
       "4  27                    5-hydroxytryptamine receptor 2C  Tclin    GPCR   \n",
       "\n",
       "       famext  \n",
       "0         NaN  \n",
       "1         NaN  \n",
       "2  3-beta-HSD  \n",
       "3        GPCR  \n",
       "4        GPCR  "
      ]
     },
     "execution_count": 201,
     "metadata": {},
     "output_type": "execute_result"
    }
   ],
   "source": [
    "targets = pd.read_csv(\"../../../Pharos/targets.csv\")\n",
    "targets.head()"
   ]
  },
  {
   "cell_type": "code",
   "execution_count": 202,
   "metadata": {},
   "outputs": [],
   "source": [
    "import json"
   ]
  },
  {
   "cell_type": "code",
   "execution_count": 215,
   "metadata": {},
   "outputs": [],
   "source": [
    "protein_to_uniprot = json.load(open('../../../Pharos/protein_to_uniprot.json', 'r'))"
   ]
  },
  {
   "cell_type": "code",
   "execution_count": 218,
   "metadata": {},
   "outputs": [
    {
     "data": {
      "text/html": [
       "<div>\n",
       "<style scoped>\n",
       "    .dataframe tbody tr th:only-of-type {\n",
       "        vertical-align: middle;\n",
       "    }\n",
       "\n",
       "    .dataframe tbody tr th {\n",
       "        vertical-align: top;\n",
       "    }\n",
       "\n",
       "    .dataframe thead th {\n",
       "        text-align: right;\n",
       "    }\n",
       "</style>\n",
       "<table border=\"1\" class=\"dataframe\">\n",
       "  <thead>\n",
       "    <tr style=\"text-align: right;\">\n",
       "      <th></th>\n",
       "      <th>id</th>\n",
       "      <th>name</th>\n",
       "      <th>tdl</th>\n",
       "      <th>fam</th>\n",
       "      <th>famext</th>\n",
       "      <th>uniprot_id</th>\n",
       "    </tr>\n",
       "  </thead>\n",
       "  <tbody>\n",
       "    <tr>\n",
       "      <th>0</th>\n",
       "      <td>2</td>\n",
       "      <td>14-3-3 protein eta</td>\n",
       "      <td>Tchem</td>\n",
       "      <td>NaN</td>\n",
       "      <td>NaN</td>\n",
       "      <td>Q04917</td>\n",
       "    </tr>\n",
       "    <tr>\n",
       "      <th>1</th>\n",
       "      <td>3</td>\n",
       "      <td>14-3-3 protein theta</td>\n",
       "      <td>Tchem</td>\n",
       "      <td>NaN</td>\n",
       "      <td>NaN</td>\n",
       "      <td>P27348</td>\n",
       "    </tr>\n",
       "    <tr>\n",
       "      <th>2</th>\n",
       "      <td>23</td>\n",
       "      <td>3 beta-hydroxysteroid dehydrogenase/Delta 5--&gt;...</td>\n",
       "      <td>Tchem</td>\n",
       "      <td>Enzyme</td>\n",
       "      <td>3-beta-HSD</td>\n",
       "      <td>P14060</td>\n",
       "    </tr>\n",
       "    <tr>\n",
       "      <th>3</th>\n",
       "      <td>26</td>\n",
       "      <td>5-hydroxytryptamine receptor 2B</td>\n",
       "      <td>Tclin</td>\n",
       "      <td>GPCR</td>\n",
       "      <td>GPCR</td>\n",
       "      <td>P41595</td>\n",
       "    </tr>\n",
       "    <tr>\n",
       "      <th>4</th>\n",
       "      <td>27</td>\n",
       "      <td>5-hydroxytryptamine receptor 2C</td>\n",
       "      <td>Tclin</td>\n",
       "      <td>GPCR</td>\n",
       "      <td>GPCR</td>\n",
       "      <td>P28335</td>\n",
       "    </tr>\n",
       "  </tbody>\n",
       "</table>\n",
       "</div>"
      ],
      "text/plain": [
       "   id                                               name    tdl     fam  \\\n",
       "0   2                                 14-3-3 protein eta  Tchem     NaN   \n",
       "1   3                               14-3-3 protein theta  Tchem     NaN   \n",
       "2  23  3 beta-hydroxysteroid dehydrogenase/Delta 5-->...  Tchem  Enzyme   \n",
       "3  26                    5-hydroxytryptamine receptor 2B  Tclin    GPCR   \n",
       "4  27                    5-hydroxytryptamine receptor 2C  Tclin    GPCR   \n",
       "\n",
       "       famext uniprot_id  \n",
       "0         NaN     Q04917  \n",
       "1         NaN     P27348  \n",
       "2  3-beta-HSD     P14060  \n",
       "3        GPCR     P41595  \n",
       "4        GPCR     P28335  "
      ]
     },
     "execution_count": 218,
     "metadata": {},
     "output_type": "execute_result"
    }
   ],
   "source": [
    "targets['uniprot_id'] = targets.name.apply(lambda x: protein_to_uniprot[x])\n",
    "targets.head()"
   ]
  },
  {
   "cell_type": "code",
   "execution_count": 245,
   "metadata": {},
   "outputs": [],
   "source": [
    "target_id_to_uniprot_id = dict(zip(targets.id, targets.uniprot_id))\n",
    "target_id_to_name = dict(zip(targets.id, targets.name))"
   ]
  },
  {
   "cell_type": "code",
   "execution_count": 228,
   "metadata": {},
   "outputs": [
    {
     "data": {
      "text/html": [
       "<div>\n",
       "<style scoped>\n",
       "    .dataframe tbody tr th:only-of-type {\n",
       "        vertical-align: middle;\n",
       "    }\n",
       "\n",
       "    .dataframe tbody tr th {\n",
       "        vertical-align: top;\n",
       "    }\n",
       "\n",
       "    .dataframe thead th {\n",
       "        text-align: right;\n",
       "    }\n",
       "</style>\n",
       "<table border=\"1\" class=\"dataframe\">\n",
       "  <thead>\n",
       "    <tr style=\"text-align: right;\">\n",
       "      <th></th>\n",
       "      <th>target_id</th>\n",
       "      <th>smiles</th>\n",
       "      <th>actives</th>\n",
       "      <th>true_actives</th>\n",
       "    </tr>\n",
       "  </thead>\n",
       "  <tbody>\n",
       "    <tr>\n",
       "      <th>0</th>\n",
       "      <td>11838</td>\n",
       "      <td>CCCCC1(CCCC)CN(C2=CC=CC=C2)C2=C(C=C(OCC(=O)N[C...</td>\n",
       "      <td>'Q8WUI4','P15121', 'P42330', 'Q9BYF1', 'P12821...</td>\n",
       "      <td>Q12908</td>\n",
       "    </tr>\n",
       "    <tr>\n",
       "      <th>1</th>\n",
       "      <td>3299</td>\n",
       "      <td>CC(C)(CO)C1=CC2=C(C=C(F)C(NC(=O)C3(CC3)C3=CC=C...</td>\n",
       "      <td>'P35916','P08235', 'P53779', 'O15055'</td>\n",
       "      <td>P13569</td>\n",
       "    </tr>\n",
       "    <tr>\n",
       "      <th>2</th>\n",
       "      <td>6977</td>\n",
       "      <td>[H]C(=O)N[C@@H](CC1=CNC2=C1C=CC=C2)NC(=O)[C@@H...</td>\n",
       "      <td>'Q92847', 'Q6B0I6', 'Q96FL8', 'Q13526', 'Q6DWJ...</td>\n",
       "      <td>Q92847</td>\n",
       "    </tr>\n",
       "    <tr>\n",
       "      <th>3</th>\n",
       "      <td>13260</td>\n",
       "      <td>COC1=C(OCCCN2CCOCC2)C=CC2=C1N=C(NC(=O)C1=CN=C(...</td>\n",
       "      <td>'P42336', 'P42338'</td>\n",
       "      <td>P42336</td>\n",
       "    </tr>\n",
       "    <tr>\n",
       "      <th>4</th>\n",
       "      <td>13069</td>\n",
       "      <td>COC1=C(OCCCN2CCOCC2)C=CC2=C1N=C(NC(=O)C1=CN=C(...</td>\n",
       "      <td>'P42336', 'P42338'</td>\n",
       "      <td>O00329</td>\n",
       "    </tr>\n",
       "  </tbody>\n",
       "</table>\n",
       "</div>"
      ],
      "text/plain": [
       "   target_id                                             smiles  \\\n",
       "0      11838  CCCCC1(CCCC)CN(C2=CC=CC=C2)C2=C(C=C(OCC(=O)N[C...   \n",
       "1       3299  CC(C)(CO)C1=CC2=C(C=C(F)C(NC(=O)C3(CC3)C3=CC=C...   \n",
       "2       6977  [H]C(=O)N[C@@H](CC1=CNC2=C1C=CC=C2)NC(=O)[C@@H...   \n",
       "3      13260  COC1=C(OCCCN2CCOCC2)C=CC2=C1N=C(NC(=O)C1=CN=C(...   \n",
       "4      13069  COC1=C(OCCCN2CCOCC2)C=CC2=C1N=C(NC(=O)C1=CN=C(...   \n",
       "\n",
       "                                             actives true_actives  \n",
       "0  'Q8WUI4','P15121', 'P42330', 'Q9BYF1', 'P12821...       Q12908  \n",
       "1              'P35916','P08235', 'P53779', 'O15055'       P13569  \n",
       "2  'Q92847', 'Q6B0I6', 'Q96FL8', 'Q13526', 'Q6DWJ...       Q92847  \n",
       "3                                 'P42336', 'P42338'       P42336  \n",
       "4                                 'P42336', 'P42338'       O00329  "
      ]
     },
     "execution_count": 228,
     "metadata": {},
     "output_type": "execute_result"
    }
   ],
   "source": [
    "df1['true_actives'] = df2.target_id.apply(lambda x: target_id_to_uniprot_id[x])\n",
    "df1.head()"
   ]
  },
  {
   "cell_type": "code",
   "execution_count": 248,
   "metadata": {},
   "outputs": [
    {
     "data": {
      "text/html": [
       "<div>\n",
       "<style scoped>\n",
       "    .dataframe tbody tr th:only-of-type {\n",
       "        vertical-align: middle;\n",
       "    }\n",
       "\n",
       "    .dataframe tbody tr th {\n",
       "        vertical-align: top;\n",
       "    }\n",
       "\n",
       "    .dataframe thead th {\n",
       "        text-align: right;\n",
       "    }\n",
       "</style>\n",
       "<table border=\"1\" class=\"dataframe\">\n",
       "  <thead>\n",
       "    <tr style=\"text-align: right;\">\n",
       "      <th></th>\n",
       "      <th>target_id</th>\n",
       "      <th>smiles</th>\n",
       "      <th>actives</th>\n",
       "      <th>true_actives</th>\n",
       "      <th>target_name</th>\n",
       "    </tr>\n",
       "  </thead>\n",
       "  <tbody>\n",
       "    <tr>\n",
       "      <th>0</th>\n",
       "      <td>11838</td>\n",
       "      <td>CCCCC1(CCCC)CN(C2=CC=CC=C2)C2=C(C=C(OCC(=O)N[C...</td>\n",
       "      <td>'Q8WUI4','P15121', 'P42330', 'Q9BYF1', 'P12821...</td>\n",
       "      <td>Q12908</td>\n",
       "      <td>Ileal sodium/bile acid cotransporter</td>\n",
       "    </tr>\n",
       "    <tr>\n",
       "      <th>1</th>\n",
       "      <td>3299</td>\n",
       "      <td>CC(C)(CO)C1=CC2=C(C=C(F)C(NC(=O)C3(CC3)C3=CC=C...</td>\n",
       "      <td>'P35916','P08235', 'P53779', 'O15055'</td>\n",
       "      <td>P13569</td>\n",
       "      <td>Cystic fibrosis transmembrane conductance regu...</td>\n",
       "    </tr>\n",
       "    <tr>\n",
       "      <th>2</th>\n",
       "      <td>6977</td>\n",
       "      <td>[H]C(=O)N[C@@H](CC1=CNC2=C1C=CC=C2)NC(=O)[C@@H...</td>\n",
       "      <td>'Q92847', 'Q6B0I6', 'Q96FL8', 'Q13526', 'Q6DWJ...</td>\n",
       "      <td>Q92847</td>\n",
       "      <td>Growth hormone secretagogue receptor type 1</td>\n",
       "    </tr>\n",
       "    <tr>\n",
       "      <th>3</th>\n",
       "      <td>13260</td>\n",
       "      <td>COC1=C(OCCCN2CCOCC2)C=CC2=C1N=C(NC(=O)C1=CN=C(...</td>\n",
       "      <td>'P42336', 'P42338'</td>\n",
       "      <td>P42336</td>\n",
       "      <td>Phosphatidylinositol 4,5-bisphosphate 3-kinase...</td>\n",
       "    </tr>\n",
       "    <tr>\n",
       "      <th>4</th>\n",
       "      <td>13069</td>\n",
       "      <td>COC1=C(OCCCN2CCOCC2)C=CC2=C1N=C(NC(=O)C1=CN=C(...</td>\n",
       "      <td>'P42336', 'P42338'</td>\n",
       "      <td>O00329</td>\n",
       "      <td>Phosphatidylinositol 4,5-bisphosphate 3-kinase...</td>\n",
       "    </tr>\n",
       "  </tbody>\n",
       "</table>\n",
       "</div>"
      ],
      "text/plain": [
       "   target_id                                             smiles  \\\n",
       "0      11838  CCCCC1(CCCC)CN(C2=CC=CC=C2)C2=C(C=C(OCC(=O)N[C...   \n",
       "1       3299  CC(C)(CO)C1=CC2=C(C=C(F)C(NC(=O)C3(CC3)C3=CC=C...   \n",
       "2       6977  [H]C(=O)N[C@@H](CC1=CNC2=C1C=CC=C2)NC(=O)[C@@H...   \n",
       "3      13260  COC1=C(OCCCN2CCOCC2)C=CC2=C1N=C(NC(=O)C1=CN=C(...   \n",
       "4      13069  COC1=C(OCCCN2CCOCC2)C=CC2=C1N=C(NC(=O)C1=CN=C(...   \n",
       "\n",
       "                                             actives true_actives  \\\n",
       "0  'Q8WUI4','P15121', 'P42330', 'Q9BYF1', 'P12821...       Q12908   \n",
       "1              'P35916','P08235', 'P53779', 'O15055'       P13569   \n",
       "2  'Q92847', 'Q6B0I6', 'Q96FL8', 'Q13526', 'Q6DWJ...       Q92847   \n",
       "3                                 'P42336', 'P42338'       P42336   \n",
       "4                                 'P42336', 'P42338'       O00329   \n",
       "\n",
       "                                         target_name  \n",
       "0               Ileal sodium/bile acid cotransporter  \n",
       "1  Cystic fibrosis transmembrane conductance regu...  \n",
       "2        Growth hormone secretagogue receptor type 1  \n",
       "3  Phosphatidylinositol 4,5-bisphosphate 3-kinase...  \n",
       "4  Phosphatidylinositol 4,5-bisphosphate 3-kinase...  "
      ]
     },
     "execution_count": 248,
     "metadata": {},
     "output_type": "execute_result"
    }
   ],
   "source": [
    "df1['target_name'] = df2.target_id.apply(lambda x: target_id_to_name[x])\n",
    "df1.head()"
   ]
  },
  {
   "cell_type": "code",
   "execution_count": 256,
   "metadata": {},
   "outputs": [],
   "source": [
    "df1['drug_name'] = df2.smiles.apply(lambda x: smiles_to_drug_names[x])"
   ]
  },
  {
   "cell_type": "code",
   "execution_count": 257,
   "metadata": {},
   "outputs": [
    {
     "data": {
      "text/html": [
       "<div>\n",
       "<style scoped>\n",
       "    .dataframe tbody tr th:only-of-type {\n",
       "        vertical-align: middle;\n",
       "    }\n",
       "\n",
       "    .dataframe tbody tr th {\n",
       "        vertical-align: top;\n",
       "    }\n",
       "\n",
       "    .dataframe thead th {\n",
       "        text-align: right;\n",
       "    }\n",
       "</style>\n",
       "<table border=\"1\" class=\"dataframe\">\n",
       "  <thead>\n",
       "    <tr style=\"text-align: right;\">\n",
       "      <th></th>\n",
       "      <th>target_id</th>\n",
       "      <th>smiles</th>\n",
       "      <th>actives</th>\n",
       "      <th>true_actives</th>\n",
       "      <th>target_name</th>\n",
       "      <th>drug_name</th>\n",
       "    </tr>\n",
       "  </thead>\n",
       "  <tbody>\n",
       "    <tr>\n",
       "      <th>0</th>\n",
       "      <td>11838</td>\n",
       "      <td>CCCCC1(CCCC)CN(C2=CC=CC=C2)C2=C(C=C(OCC(=O)N[C...</td>\n",
       "      <td>'Q8WUI4','P15121', 'P42330', 'Q9BYF1', 'P12821...</td>\n",
       "      <td>Q12908</td>\n",
       "      <td>Ileal sodium/bile acid cotransporter</td>\n",
       "      <td>elobixibat</td>\n",
       "    </tr>\n",
       "    <tr>\n",
       "      <th>1</th>\n",
       "      <td>3299</td>\n",
       "      <td>CC(C)(CO)C1=CC2=C(C=C(F)C(NC(=O)C3(CC3)C3=CC=C...</td>\n",
       "      <td>'P35916','P08235', 'P53779', 'O15055'</td>\n",
       "      <td>P13569</td>\n",
       "      <td>Cystic fibrosis transmembrane conductance regu...</td>\n",
       "      <td>tezacaftor</td>\n",
       "    </tr>\n",
       "    <tr>\n",
       "      <th>2</th>\n",
       "      <td>6977</td>\n",
       "      <td>[H]C(=O)N[C@@H](CC1=CNC2=C1C=CC=C2)NC(=O)[C@@H...</td>\n",
       "      <td>'Q92847', 'Q6B0I6', 'Q96FL8', 'Q13526', 'Q6DWJ...</td>\n",
       "      <td>Q92847</td>\n",
       "      <td>Growth hormone secretagogue receptor type 1</td>\n",
       "      <td>macimorelin</td>\n",
       "    </tr>\n",
       "    <tr>\n",
       "      <th>3</th>\n",
       "      <td>13260</td>\n",
       "      <td>COC1=C(OCCCN2CCOCC2)C=CC2=C1N=C(NC(=O)C1=CN=C(...</td>\n",
       "      <td>'P42336', 'P42338'</td>\n",
       "      <td>P42336</td>\n",
       "      <td>Phosphatidylinositol 4,5-bisphosphate 3-kinase...</td>\n",
       "      <td>copanlisib</td>\n",
       "    </tr>\n",
       "    <tr>\n",
       "      <th>4</th>\n",
       "      <td>13069</td>\n",
       "      <td>COC1=C(OCCCN2CCOCC2)C=CC2=C1N=C(NC(=O)C1=CN=C(...</td>\n",
       "      <td>'P42336', 'P42338'</td>\n",
       "      <td>O00329</td>\n",
       "      <td>Phosphatidylinositol 4,5-bisphosphate 3-kinase...</td>\n",
       "      <td>copanlisib</td>\n",
       "    </tr>\n",
       "  </tbody>\n",
       "</table>\n",
       "</div>"
      ],
      "text/plain": [
       "   target_id                                             smiles  \\\n",
       "0      11838  CCCCC1(CCCC)CN(C2=CC=CC=C2)C2=C(C=C(OCC(=O)N[C...   \n",
       "1       3299  CC(C)(CO)C1=CC2=C(C=C(F)C(NC(=O)C3(CC3)C3=CC=C...   \n",
       "2       6977  [H]C(=O)N[C@@H](CC1=CNC2=C1C=CC=C2)NC(=O)[C@@H...   \n",
       "3      13260  COC1=C(OCCCN2CCOCC2)C=CC2=C1N=C(NC(=O)C1=CN=C(...   \n",
       "4      13069  COC1=C(OCCCN2CCOCC2)C=CC2=C1N=C(NC(=O)C1=CN=C(...   \n",
       "\n",
       "                                             actives true_actives  \\\n",
       "0  'Q8WUI4','P15121', 'P42330', 'Q9BYF1', 'P12821...       Q12908   \n",
       "1              'P35916','P08235', 'P53779', 'O15055'       P13569   \n",
       "2  'Q92847', 'Q6B0I6', 'Q96FL8', 'Q13526', 'Q6DWJ...       Q92847   \n",
       "3                                 'P42336', 'P42338'       P42336   \n",
       "4                                 'P42336', 'P42338'       O00329   \n",
       "\n",
       "                                         target_name    drug_name  \n",
       "0               Ileal sodium/bile acid cotransporter   elobixibat  \n",
       "1  Cystic fibrosis transmembrane conductance regu...   tezacaftor  \n",
       "2        Growth hormone secretagogue receptor type 1  macimorelin  \n",
       "3  Phosphatidylinositol 4,5-bisphosphate 3-kinase...   copanlisib  \n",
       "4  Phosphatidylinositol 4,5-bisphosphate 3-kinase...   copanlisib  "
      ]
     },
     "execution_count": 257,
     "metadata": {},
     "output_type": "execute_result"
    }
   ],
   "source": [
    "df1.head()"
   ]
  },
  {
   "cell_type": "code",
   "execution_count": 258,
   "metadata": {},
   "outputs": [],
   "source": [
    "df1.to_csv('final_results_v2.csv', index=None)"
   ]
  },
  {
   "cell_type": "code",
   "execution_count": 259,
   "metadata": {},
   "outputs": [
    {
     "data": {
      "text/plain": [
       "'/data2/mhassan/LigandNet/prediction/pharos_drugs'"
      ]
     },
     "execution_count": 259,
     "metadata": {},
     "output_type": "execute_result"
    }
   ],
   "source": [
    "pwd"
   ]
  },
  {
   "cell_type": "code",
   "execution_count": 242,
   "metadata": {},
   "outputs": [],
   "source": [
    "def find_common(x):\n",
    "    actives_list = x['actives'].split(',')\n",
    "    if x['true_actives'] in actives_list: return True\n",
    "    else: return False"
   ]
  },
  {
   "cell_type": "code",
   "execution_count": 244,
   "metadata": {},
   "outputs": [
    {
     "data": {
      "text/html": [
       "<div>\n",
       "<style scoped>\n",
       "    .dataframe tbody tr th:only-of-type {\n",
       "        vertical-align: middle;\n",
       "    }\n",
       "\n",
       "    .dataframe tbody tr th {\n",
       "        vertical-align: top;\n",
       "    }\n",
       "\n",
       "    .dataframe thead th {\n",
       "        text-align: right;\n",
       "    }\n",
       "</style>\n",
       "<table border=\"1\" class=\"dataframe\">\n",
       "  <thead>\n",
       "    <tr style=\"text-align: right;\">\n",
       "      <th></th>\n",
       "      <th>target_id</th>\n",
       "      <th>smiles</th>\n",
       "      <th>actives</th>\n",
       "      <th>true_actives</th>\n",
       "    </tr>\n",
       "  </thead>\n",
       "  <tbody>\n",
       "  </tbody>\n",
       "</table>\n",
       "</div>"
      ],
      "text/plain": [
       "Empty DataFrame\n",
       "Columns: [target_id, smiles, actives, true_actives]\n",
       "Index: []"
      ]
     },
     "execution_count": 244,
     "metadata": {},
     "output_type": "execute_result"
    }
   ],
   "source": [
    "df1[df1.apply(find_common, axis=1)]"
   ]
  },
  {
   "cell_type": "code",
   "execution_count": null,
   "metadata": {},
   "outputs": [],
   "source": []
  }
 ],
 "metadata": {
  "kernelspec": {
   "display_name": "Python 3",
   "language": "python",
   "name": "python3"
  },
  "language_info": {
   "codemirror_mode": {
    "name": "ipython",
    "version": 3
   },
   "file_extension": ".py",
   "mimetype": "text/x-python",
   "name": "python",
   "nbconvert_exporter": "python",
   "pygments_lexer": "ipython3",
   "version": "3.6.7"
  }
 },
 "nbformat": 4,
 "nbformat_minor": 2
}
