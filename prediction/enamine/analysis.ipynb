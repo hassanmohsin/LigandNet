{
 "cells": [
  {
   "cell_type": "code",
   "execution_count": 1,
   "metadata": {},
   "outputs": [],
   "source": [
    "import pandas as pd\n",
    "import matplotlib.pyplot as plt\n",
    "import seaborn as sns"
   ]
  },
  {
   "cell_type": "code",
   "execution_count": 2,
   "metadata": {},
   "outputs": [],
   "source": [
    "sns.set(color_codes=True)"
   ]
  },
  {
   "cell_type": "code",
   "execution_count": 3,
   "metadata": {},
   "outputs": [
    {
     "data": {
      "text/html": [
       "<div>\n",
       "<style scoped>\n",
       "    .dataframe tbody tr th:only-of-type {\n",
       "        vertical-align: middle;\n",
       "    }\n",
       "\n",
       "    .dataframe tbody tr th {\n",
       "        vertical-align: top;\n",
       "    }\n",
       "\n",
       "    .dataframe thead th {\n",
       "        text-align: right;\n",
       "    }\n",
       "</style>\n",
       "<table border=\"1\" class=\"dataframe\">\n",
       "  <thead>\n",
       "    <tr style=\"text-align: right;\">\n",
       "      <th></th>\n",
       "      <th>protein</th>\n",
       "      <th>id</th>\n",
       "      <th>smiles</th>\n",
       "      <th>prediction</th>\n",
       "    </tr>\n",
       "  </thead>\n",
       "  <tbody>\n",
       "    <tr>\n",
       "      <th>0</th>\n",
       "      <td>cytochrome_p450_1b1</td>\n",
       "      <td>Z1020866442</td>\n",
       "      <td>Clc1ccc2cccnc2c1Cn1ccnc1-c1cnccn1</td>\n",
       "      <td>0.999435</td>\n",
       "    </tr>\n",
       "    <tr>\n",
       "      <th>1</th>\n",
       "      <td>sodium_dependent_dopamine_transporter</td>\n",
       "      <td>Z1014961274</td>\n",
       "      <td>O=C(C1COCCO1)N1Cc2ccccc2-c2ccccc2C1</td>\n",
       "      <td>0.996760</td>\n",
       "    </tr>\n",
       "    <tr>\n",
       "      <th>2</th>\n",
       "      <td>sodium_dependent_dopamine_transporter</td>\n",
       "      <td>Z1014961706</td>\n",
       "      <td>COCCN1CC(C(=O)N2Cc3ccccc3-c3ccccc3C2)CC1=O</td>\n",
       "      <td>0.994410</td>\n",
       "    </tr>\n",
       "    <tr>\n",
       "      <th>3</th>\n",
       "      <td>sodium_dependent_dopamine_transporter</td>\n",
       "      <td>Z1014963396</td>\n",
       "      <td>CC(=O)N1CCCC(C(=O)N2Cc3ccccc3-c3ccccc3C2)C1</td>\n",
       "      <td>0.999951</td>\n",
       "    </tr>\n",
       "    <tr>\n",
       "      <th>4</th>\n",
       "      <td>sodium_dependent_dopamine_transporter</td>\n",
       "      <td>Z1015253942</td>\n",
       "      <td>CN(C)S(=O)(=O)N1Cc2ccccc2-c2ccccc2C1</td>\n",
       "      <td>0.999801</td>\n",
       "    </tr>\n",
       "  </tbody>\n",
       "</table>\n",
       "</div>"
      ],
      "text/plain": [
       "                                 protein           id  \\\n",
       "0                    cytochrome_p450_1b1  Z1020866442   \n",
       "1  sodium_dependent_dopamine_transporter  Z1014961274   \n",
       "2  sodium_dependent_dopamine_transporter  Z1014961706   \n",
       "3  sodium_dependent_dopamine_transporter  Z1014963396   \n",
       "4  sodium_dependent_dopamine_transporter  Z1015253942   \n",
       "\n",
       "                                        smiles  prediction  \n",
       "0            Clc1ccc2cccnc2c1Cn1ccnc1-c1cnccn1    0.999435  \n",
       "1          O=C(C1COCCO1)N1Cc2ccccc2-c2ccccc2C1    0.996760  \n",
       "2   COCCN1CC(C(=O)N2Cc3ccccc3-c3ccccc3C2)CC1=O    0.994410  \n",
       "3  CC(=O)N1CCCC(C(=O)N2Cc3ccccc3-c3ccccc3C2)C1    0.999951  \n",
       "4         CN(C)S(=O)(=O)N1Cc2ccccc2-c2ccccc2C1    0.999801  "
      ]
     },
     "execution_count": 3,
     "metadata": {},
     "output_type": "execute_result"
    }
   ],
   "source": [
    "df = pd.read_csv(\"enamine_hits.csv\")\n",
    "df.head()"
   ]
  },
  {
   "cell_type": "code",
   "execution_count": 4,
   "metadata": {},
   "outputs": [
    {
     "data": {
      "text/plain": [
       "304292"
      ]
     },
     "execution_count": 4,
     "metadata": {},
     "output_type": "execute_result"
    }
   ],
   "source": [
    "len(df)"
   ]
  },
  {
   "cell_type": "code",
   "execution_count": 8,
   "metadata": {},
   "outputs": [
    {
     "name": "stderr",
     "output_type": "stream",
     "text": [
      "/home/mhassan/miniconda3/envs/ml/lib/python3.7/site-packages/ipykernel_launcher.py:2: FutureWarning: The signature of `Series.to_csv` was aligned to that of `DataFrame.to_csv`, and argument 'header' will change its default value from False to True: please pass an explicit value to suppress this warning.\n",
      "  \n"
     ]
    }
   ],
   "source": [
    "hit_count = df.groupby('protein').count()['prediction']\n",
    "hit_count.to_csv(\"protein_hit_count.csv\")"
   ]
  },
  {
   "cell_type": "code",
   "execution_count": 36,
   "metadata": {},
   "outputs": [
    {
     "data": {
      "text/plain": [
       "protein\n",
       "15_hydroxyprostaglandin_dehydrogenase_nad_                           163\n",
       "1_25_dihydroxyvitamin_d_3_24_hydroxylase_mitochondrial                 7\n",
       "5_hydroxytryptamine_receptor_1a                                       99\n",
       "5_hydroxytryptamine_receptor_1b                                        6\n",
       "5_hydroxytryptamine_receptor_1d                                      135\n",
       "5_hydroxytryptamine_receptor_4                                       129\n",
       "5_hydroxytryptamine_receptor_6                                       403\n",
       "5_hydroxytryptamine_receptor_7                                       510\n",
       "72_kda_type_iv_collagenase                                          1782\n",
       "a_disintegrin_and_metalloproteinase_with_thrombospondin_motifs_4      49\n",
       "a_disintegrin_and_metalloproteinase_with_thrombospondin_motifs_5     327\n",
       "acetyl_coa_carboxylase_1                                             128\n",
       "acetyl_coa_carboxylase_2                                              15\n",
       "acyl_coa_desaturase                                                   46\n",
       "aldehyde_dehydrogenase_mitochondrial                                  99\n",
       "alk_tyrosine_kinase_receptor                                         255\n",
       "alpha_1a_adrenergic_receptor                                        1283\n",
       "alpha_1d_adrenergic_receptor                                        2383\n",
       "alpha_2c_adrenergic_receptor                                        9491\n",
       "amine_oxidase_flavin_containing_b                                   7512\n",
       "amyloid_beta_a4_protein                                             6267\n",
       "androgen_receptor                                                   1834\n",
       "arachidonate_15_lipoxygenase                                        1398\n",
       "atp_sensitive_inward_rectifier_potassium_channel_1                     1\n",
       "aurora_kinase_a                                                      813\n",
       "aurora_kinase_b                                                      336\n",
       "b1_bradykinin_receptor                                                84\n",
       "b2_bradykinin_receptor                                                 1\n",
       "baculoviral_iap_repeat_containing_protein_2                          422\n",
       "bcl_2_like_protein_1                                                   2\n",
       "                                                                    ... \n",
       "sodium_channel_protein_type_9_subunit_alpha                          224\n",
       "sodium_dependent_dopamine_transporter                               4730\n",
       "sodium_dependent_noradrenaline_transporter                           444\n",
       "sodium_glucose_cotransporter_1                                        44\n",
       "somatostatin_receptor_type_2                                          43\n",
       "somatostatin_receptor_type_3                                          21\n",
       "somatostatin_receptor_type_5                                         648\n",
       "sorbitol_dehydrogenase                                                51\n",
       "sphingosine_1_phosphate_receptor_1                                    92\n",
       "steroid_17_alpha_hydroxylase_17_20_lyase                              70\n",
       "sterol_o_acyltransferase_2                                             2\n",
       "stromelysin_1                                                        425\n",
       "substance_k_receptor                                                  65\n",
       "substance_p_receptor                                                 409\n",
       "tgf_beta_receptor_type_1                                             103\n",
       "thromboxane_a2_receptor                                               12\n",
       "thymidylate_synthase                                                 389\n",
       "transient_receptor_potential_cation_channel_subfamily_m_member_8     552\n",
       "transient_receptor_potential_cation_channel_subfamily_v_member_1      71\n",
       "transient_receptor_potential_cation_channel_subfamily_v_member_3     131\n",
       "transitional_endoplasmic_reticulum_atpase                            275\n",
       "trifunctional_purine_biosynthetic_protein_adenosine_3                 36\n",
       "tyrosine_protein_kinase_jak2                                          28\n",
       "tyrosine_protein_kinase_syk                                           32\n",
       "tyrosine_protein_phosphatase_non_receptor_type_22                   1882\n",
       "vasopressin_v1a_receptor                                              31\n",
       "vesicular_acetylcholine_transporter                                   79\n",
       "vitamin_d3_receptor                                                   88\n",
       "voltage_dependent_calcium_channel_subunit_alpha_2_delta_1             10\n",
       "wee1_like_protein_kinase                                             221\n",
       "Name: prediction, Length: 233, dtype: int64"
      ]
     },
     "execution_count": 36,
     "metadata": {},
     "output_type": "execute_result"
    }
   ],
   "source": [
    "hit_count"
   ]
  },
  {
   "cell_type": "code",
   "execution_count": 9,
   "metadata": {},
   "outputs": [
    {
     "data": {
      "text/plain": [
       "protein\n",
       "15_hydroxyprostaglandin_dehydrogenase_nad_                163\n",
       "1_25_dihydroxyvitamin_d_3_24_hydroxylase_mitochondrial      7\n",
       "5_hydroxytryptamine_receptor_1a                            99\n",
       "5_hydroxytryptamine_receptor_1b                             6\n",
       "5_hydroxytryptamine_receptor_1d                           135\n",
       "Name: prediction, dtype: int64"
      ]
     },
     "execution_count": 9,
     "metadata": {},
     "output_type": "execute_result"
    }
   ],
   "source": [
    "hit_count.head()"
   ]
  },
  {
   "cell_type": "code",
   "execution_count": 12,
   "metadata": {},
   "outputs": [
    {
     "data": {
      "text/html": [
       "<div>\n",
       "<style scoped>\n",
       "    .dataframe tbody tr th:only-of-type {\n",
       "        vertical-align: middle;\n",
       "    }\n",
       "\n",
       "    .dataframe tbody tr th {\n",
       "        vertical-align: top;\n",
       "    }\n",
       "\n",
       "    .dataframe thead th {\n",
       "        text-align: right;\n",
       "    }\n",
       "</style>\n",
       "<table border=\"1\" class=\"dataframe\">\n",
       "  <thead>\n",
       "    <tr style=\"text-align: right;\">\n",
       "      <th></th>\n",
       "      <th>models</th>\n",
       "      <th>protein_family</th>\n",
       "      <th>count</th>\n",
       "    </tr>\n",
       "  </thead>\n",
       "  <tbody>\n",
       "    <tr>\n",
       "      <th>0</th>\n",
       "      <td>mlp</td>\n",
       "      <td>Enzyme</td>\n",
       "      <td>44</td>\n",
       "    </tr>\n",
       "    <tr>\n",
       "      <th>1</th>\n",
       "      <td>mlp</td>\n",
       "      <td>Kinase</td>\n",
       "      <td>26</td>\n",
       "    </tr>\n",
       "    <tr>\n",
       "      <th>2</th>\n",
       "      <td>mlp</td>\n",
       "      <td>GPCR</td>\n",
       "      <td>25</td>\n",
       "    </tr>\n",
       "    <tr>\n",
       "      <th>3</th>\n",
       "      <td>mlp</td>\n",
       "      <td>IC</td>\n",
       "      <td>6</td>\n",
       "    </tr>\n",
       "    <tr>\n",
       "      <th>4</th>\n",
       "      <td>mlp</td>\n",
       "      <td>Epigenetic</td>\n",
       "      <td>5</td>\n",
       "    </tr>\n",
       "  </tbody>\n",
       "</table>\n",
       "</div>"
      ],
      "text/plain": [
       "  models protein_family  count\n",
       "0    mlp         Enzyme     44\n",
       "1    mlp         Kinase     26\n",
       "2    mlp           GPCR     25\n",
       "3    mlp             IC      6\n",
       "4    mlp     Epigenetic      5"
      ]
     },
     "execution_count": 12,
     "metadata": {},
     "output_type": "execute_result"
    }
   ],
   "source": [
    "fam = pd.read_csv(\"../../../ligandnet2/analysis/model_family_counts.csv\", names=['models', 'protein_family', 'count'])\n",
    "fam.head()"
   ]
  },
  {
   "cell_type": "code",
   "execution_count": 35,
   "metadata": {},
   "outputs": [
    {
     "data": {
      "image/png": "[encoded data removed]",
      "text/plain": [
       "<Figure size 1080x720 with 1 Axes>"
      ]
     },
     "metadata": {},
     "output_type": "display_data"
    }
   ],
   "source": [
    "plt.figure(figsize=(15, 10))\n",
    "ax = hit_count.hist()\n",
    "ax.set_xlabel('Protein')\n",
    "ax.set_ylabel('Count')\n",
    "plt.show()"
   ]
  }
 ],
 "metadata": {
  "kernelspec": {
   "display_name": "Python 3",
   "language": "python",
   "name": "python3"
  },
  "language_info": {
   "codemirror_mode": {
    "name": "ipython",
    "version": 3
   },
   "file_extension": ".py",
   "mimetype": "text/x-python",
   "name": "python",
   "nbconvert_exporter": "python",
   "pygments_lexer": "ipython3",
   "version": "3.7.5"
  }
 },
 "nbformat": 4,
 "nbformat_minor": 4
}
